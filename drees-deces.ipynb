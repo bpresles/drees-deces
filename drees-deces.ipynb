{
 "cells": [
  {
   "cell_type": "markdown",
   "id": "877e8fc5",
   "metadata": {},
   "source": [
    "# Analyse des décès covid par statut vaccinal \n",
    "\n",
    "\n",
    "## Résumé\n",
    "\n",
    "Cette feuille de calcul analyse les données de décès de la DREES, par statut vaccinal et par âge, et tente d'évaluer les décès évités par la vaccination, et ceux qui auraient pu l'être avec une couverture vaccinale complète.\n",
    "\n",
    "\n",
    "## Données\n",
    "\n",
    "Les données proviennent du site de la DREES. Elle comportent les décès depuis juin 2021, par statut vaccinal, dat et tranche d'âge\n",
    "\n",
    "https://data.drees.solidarites-sante.gouv.fr/explore/dataset/covid-19-resultats-par-age-issus-des-appariements-entre-si-vic-si-dep-et-vac-si/information/\n",
    "\n",
    "## Méthodologie \n",
    "\n",
    "Pour chaque tranche d'âge, chaque statut vaccinal et chaque date, la DREES fournit les effectifs du groupe correspondant (age et statut vaccinal), à date. Ceci permet de calculer une mortalité journalière pour chaque sous groupe.\n",
    "\n",
    "Il est alors possible de simuler des scénarios de couverture vaccinale (0% et 100%) appliquant la mortalité d'un sous groupe à l'autre, pour une même tranche d'âge.\n",
    "\n",
    "## Limitations\n",
    "\n",
    "Ces calculs reposent sur l'hypothèse que la différence de mortalité des groupes vaccinés et non-vaccinés dépend essentiellement de leur statut vaccinal. Le facteur de confusion \"âge\" est pris en compte par la strafification par âge déjà appliquée par la DREES. \n",
    "\n",
    "D'autres facteurs de confusion peuvent néamoins subsister:\n",
    "\n",
    "* **Comorbidités** : Chez les plus jeunes surtout (0-19 ans), les individus présentant des comorbidités ont été vaccinés en priorité. L'ignorance de cette corrélation tend à sous estimer l'impact positif de la vaccination.\n",
    "\n",
    "* **Classes sociales** : Les classes populaires sont à la fois moins plus vulnérables et moins vaccinées que le reste de la population. [1](https://www.cdc.gov/mmwr/volumes/70/wr/mm7022e1.htm) [2](https://www.huffingtonpost.fr/entry/vaccination-la-richesse-ou-les-diplomes-insuffisants-pour-expliquer-le-choix-de-ceux-qui-decident-de-ne-pas-le-faire_fr_61166e34e4b07c1403142492). L'ignorance de cette corrélation tend à surestimer l'impact positif de la vaccination.\n",
    "\n",
    "* **Transmission** : Cette étude ne considère pas l'effet de la vaccination sur la transmission ([évalué à 40% environ](https://www.france24.com/en/live-news/20211124-vaccines-reduce-covid-transmission-by-40-who)). L'ignorance de cet tend à sous estimer l'impact positif de la vaccination.\n",
    "\n",
    "# Code \n",
    "\n",
    "Le code est disponible sur Github :\n",
    "https://github.com/raphaeljolivet/drees-deces\n",
    "\n",
    "# Auteur\n",
    "\n",
    "Raphaël Jolivet : https://mamot.fr/@RaphJ\n",
    "\n",
    "# Licence\n",
    "\n",
    "Cette feuille de calcul est distribuée sous [licence CC-By](https://creativecommons.org/licenses/by/4.0/)\n",
    "\n"
   ]
  },
  {
   "cell_type": "markdown",
   "id": "d98103b2",
   "metadata": {
    "ExecuteTime": {
     "end_time": "2021-12-22T16:42:16.213296Z",
     "start_time": "2021-12-22T16:42:16.209773Z"
    }
   },
   "source": [
    "# Initialisation"
   ]
  },
  {
   "cell_type": "code",
   "execution_count": 72,
   "id": "8e934514",
   "metadata": {
    "ExecuteTime": {
     "end_time": "2021-12-22T16:41:46.503376Z",
     "start_time": "2021-12-22T16:41:46.499590Z"
    }
   },
   "outputs": [],
   "source": [
    "# Import de librairies\n",
    "import pandas as pd\n",
    "import matplotlib.pyplot as plt\n",
    "\n",
    "# Taille par défaut des graphes\n",
    "plt.rc('figure', figsize=(10,7))"
   ]
  },
  {
   "cell_type": "markdown",
   "id": "c06c6cbd",
   "metadata": {
    "ExecuteTime": {
     "end_time": "2021-12-22T16:42:01.538268Z",
     "start_time": "2021-12-22T16:42:01.534831Z"
    }
   },
   "source": [
    "# Chargement des données"
   ]
  },
  {
   "cell_type": "code",
   "execution_count": 57,
   "id": "5a83ad24",
   "metadata": {
    "ExecuteTime": {
     "end_time": "2021-12-22T16:11:25.825504Z",
     "start_time": "2021-12-22T16:11:25.754691Z"
    }
   },
   "outputs": [
    {
     "data": {
      "text/html": [
       "<div>\n",
       "<style scoped>\n",
       "    .dataframe tbody tr th:only-of-type {\n",
       "        vertical-align: middle;\n",
       "    }\n",
       "\n",
       "    .dataframe tbody tr th {\n",
       "        vertical-align: top;\n",
       "    }\n",
       "\n",
       "    .dataframe thead th {\n",
       "        text-align: right;\n",
       "    }\n",
       "</style>\n",
       "<table border=\"1\" class=\"dataframe\">\n",
       "  <thead>\n",
       "    <tr style=\"text-align: right;\">\n",
       "      <th></th>\n",
       "      <th>date</th>\n",
       "      <th>vac_statut</th>\n",
       "      <th>age</th>\n",
       "      <th>nb_PCR</th>\n",
       "      <th>nb_PCR_sympt</th>\n",
       "      <th>nb_PCR+_sympt</th>\n",
       "      <th>nb_PCR+</th>\n",
       "      <th>HC</th>\n",
       "      <th>HC_PCR+</th>\n",
       "      <th>SC</th>\n",
       "      <th>SC_PCR+</th>\n",
       "      <th>DC</th>\n",
       "      <th>DC_PCR+</th>\n",
       "      <th>effectif</th>\n",
       "    </tr>\n",
       "  </thead>\n",
       "  <tbody>\n",
       "    <tr>\n",
       "      <th>0</th>\n",
       "      <td>2021-05-31</td>\n",
       "      <td>Primo dose efficace</td>\n",
       "      <td>[0,19]</td>\n",
       "      <td>541.14</td>\n",
       "      <td>49.02</td>\n",
       "      <td>2.04</td>\n",
       "      <td>8.38</td>\n",
       "      <td>0.17</td>\n",
       "      <td>0.00</td>\n",
       "      <td>0.00</td>\n",
       "      <td>0.00</td>\n",
       "      <td>0.00</td>\n",
       "      <td>0.00</td>\n",
       "      <td>54186</td>\n",
       "    </tr>\n",
       "    <tr>\n",
       "      <th>1</th>\n",
       "      <td>2021-05-31</td>\n",
       "      <td>Complet de moins de 3 mois - sans rappel</td>\n",
       "      <td>[0,19]</td>\n",
       "      <td>254.92</td>\n",
       "      <td>22.68</td>\n",
       "      <td>7.18</td>\n",
       "      <td>21.56</td>\n",
       "      <td>0.13</td>\n",
       "      <td>0.00</td>\n",
       "      <td>0.00</td>\n",
       "      <td>0.00</td>\n",
       "      <td>0.00</td>\n",
       "      <td>0.00</td>\n",
       "      <td>16776</td>\n",
       "    </tr>\n",
       "    <tr>\n",
       "      <th>2</th>\n",
       "      <td>2021-05-31</td>\n",
       "      <td>Complet entre 3 mois et 6 mois - sans rappel</td>\n",
       "      <td>[0,19]</td>\n",
       "      <td>6.60</td>\n",
       "      <td>1.24</td>\n",
       "      <td>0.10</td>\n",
       "      <td>0.80</td>\n",
       "      <td>0.00</td>\n",
       "      <td>0.00</td>\n",
       "      <td>0.00</td>\n",
       "      <td>0.00</td>\n",
       "      <td>0.00</td>\n",
       "      <td>0.00</td>\n",
       "      <td>464</td>\n",
       "    </tr>\n",
       "    <tr>\n",
       "      <th>3</th>\n",
       "      <td>2021-05-31</td>\n",
       "      <td>Non-vaccinés</td>\n",
       "      <td>[20,39]</td>\n",
       "      <td>54727.91</td>\n",
       "      <td>7383.31</td>\n",
       "      <td>1539.77</td>\n",
       "      <td>3317.99</td>\n",
       "      <td>49.74</td>\n",
       "      <td>38.50</td>\n",
       "      <td>7.61</td>\n",
       "      <td>6.00</td>\n",
       "      <td>0.00</td>\n",
       "      <td>0.00</td>\n",
       "      <td>12135472</td>\n",
       "    </tr>\n",
       "    <tr>\n",
       "      <th>4</th>\n",
       "      <td>2021-05-31</td>\n",
       "      <td>Primo dose efficace</td>\n",
       "      <td>[20,39]</td>\n",
       "      <td>6660.51</td>\n",
       "      <td>646.63</td>\n",
       "      <td>33.70</td>\n",
       "      <td>92.78</td>\n",
       "      <td>0.11</td>\n",
       "      <td>0.00</td>\n",
       "      <td>0.13</td>\n",
       "      <td>0.00</td>\n",
       "      <td>0.00</td>\n",
       "      <td>0.00</td>\n",
       "      <td>1214317</td>\n",
       "    </tr>\n",
       "    <tr>\n",
       "      <th>...</th>\n",
       "      <td>...</td>\n",
       "      <td>...</td>\n",
       "      <td>...</td>\n",
       "      <td>...</td>\n",
       "      <td>...</td>\n",
       "      <td>...</td>\n",
       "      <td>...</td>\n",
       "      <td>...</td>\n",
       "      <td>...</td>\n",
       "      <td>...</td>\n",
       "      <td>...</td>\n",
       "      <td>...</td>\n",
       "      <td>...</td>\n",
       "      <td>...</td>\n",
       "    </tr>\n",
       "    <tr>\n",
       "      <th>7411</th>\n",
       "      <td>2021-12-05</td>\n",
       "      <td>Complet de moins de 3 mois - avec rappel</td>\n",
       "      <td>[40,59]</td>\n",
       "      <td>20.76</td>\n",
       "      <td>0.11</td>\n",
       "      <td>0.00</td>\n",
       "      <td>0.05</td>\n",
       "      <td>0.00</td>\n",
       "      <td>0.00</td>\n",
       "      <td>0.00</td>\n",
       "      <td>0.00</td>\n",
       "      <td>0.00</td>\n",
       "      <td>0.00</td>\n",
       "      <td>13005</td>\n",
       "    </tr>\n",
       "    <tr>\n",
       "      <th>7412</th>\n",
       "      <td>2021-12-05</td>\n",
       "      <td>Complet de moins de 3 mois - sans rappel</td>\n",
       "      <td>[60,79]</td>\n",
       "      <td>493.31</td>\n",
       "      <td>34.97</td>\n",
       "      <td>2.17</td>\n",
       "      <td>18.96</td>\n",
       "      <td>6.21</td>\n",
       "      <td>5.01</td>\n",
       "      <td>6.24</td>\n",
       "      <td>3.59</td>\n",
       "      <td>0.00</td>\n",
       "      <td>0.00</td>\n",
       "      <td>616999</td>\n",
       "    </tr>\n",
       "    <tr>\n",
       "      <th>7413</th>\n",
       "      <td>2021-12-05</td>\n",
       "      <td>Non-vaccinés</td>\n",
       "      <td>[80;+]</td>\n",
       "      <td>684.52</td>\n",
       "      <td>96.74</td>\n",
       "      <td>28.66</td>\n",
       "      <td>80.67</td>\n",
       "      <td>58.68</td>\n",
       "      <td>35.08</td>\n",
       "      <td>4.75</td>\n",
       "      <td>4.75</td>\n",
       "      <td>29.84</td>\n",
       "      <td>21.34</td>\n",
       "      <td>240617</td>\n",
       "    </tr>\n",
       "    <tr>\n",
       "      <th>7414</th>\n",
       "      <td>2021-12-05</td>\n",
       "      <td>Primo dose récente</td>\n",
       "      <td>[80;+]</td>\n",
       "      <td>27.84</td>\n",
       "      <td>3.74</td>\n",
       "      <td>0.00</td>\n",
       "      <td>1.11</td>\n",
       "      <td>0.00</td>\n",
       "      <td>0.00</td>\n",
       "      <td>0.00</td>\n",
       "      <td>0.00</td>\n",
       "      <td>0.00</td>\n",
       "      <td>0.00</td>\n",
       "      <td>9302</td>\n",
       "    </tr>\n",
       "    <tr>\n",
       "      <th>7415</th>\n",
       "      <td>2021-12-05</td>\n",
       "      <td>Complet de moins de 3 mois - sans rappel</td>\n",
       "      <td>[80;+]</td>\n",
       "      <td>385.30</td>\n",
       "      <td>46.15</td>\n",
       "      <td>2.10</td>\n",
       "      <td>12.30</td>\n",
       "      <td>6.84</td>\n",
       "      <td>6.77</td>\n",
       "      <td>1.25</td>\n",
       "      <td>1.25</td>\n",
       "      <td>2.39</td>\n",
       "      <td>1.39</td>\n",
       "      <td>239457</td>\n",
       "    </tr>\n",
       "  </tbody>\n",
       "</table>\n",
       "<p>7416 rows × 14 columns</p>\n",
       "</div>"
      ],
      "text/plain": [
       "           date                                    vac_statut      age  \\\n",
       "0    2021-05-31                           Primo dose efficace   [0,19]   \n",
       "1    2021-05-31      Complet de moins de 3 mois - sans rappel   [0,19]   \n",
       "2    2021-05-31  Complet entre 3 mois et 6 mois - sans rappel   [0,19]   \n",
       "3    2021-05-31                                  Non-vaccinés  [20,39]   \n",
       "4    2021-05-31                           Primo dose efficace  [20,39]   \n",
       "...         ...                                           ...      ...   \n",
       "7411 2021-12-05      Complet de moins de 3 mois - avec rappel  [40,59]   \n",
       "7412 2021-12-05      Complet de moins de 3 mois - sans rappel  [60,79]   \n",
       "7413 2021-12-05                                  Non-vaccinés   [80;+]   \n",
       "7414 2021-12-05                            Primo dose récente   [80;+]   \n",
       "7415 2021-12-05      Complet de moins de 3 mois - sans rappel   [80;+]   \n",
       "\n",
       "        nb_PCR  nb_PCR_sympt  nb_PCR+_sympt  nb_PCR+     HC  HC_PCR+    SC  \\\n",
       "0       541.14         49.02           2.04     8.38   0.17     0.00  0.00   \n",
       "1       254.92         22.68           7.18    21.56   0.13     0.00  0.00   \n",
       "2         6.60          1.24           0.10     0.80   0.00     0.00  0.00   \n",
       "3     54727.91       7383.31        1539.77  3317.99  49.74    38.50  7.61   \n",
       "4      6660.51        646.63          33.70    92.78   0.11     0.00  0.13   \n",
       "...        ...           ...            ...      ...    ...      ...   ...   \n",
       "7411     20.76          0.11           0.00     0.05   0.00     0.00  0.00   \n",
       "7412    493.31         34.97           2.17    18.96   6.21     5.01  6.24   \n",
       "7413    684.52         96.74          28.66    80.67  58.68    35.08  4.75   \n",
       "7414     27.84          3.74           0.00     1.11   0.00     0.00  0.00   \n",
       "7415    385.30         46.15           2.10    12.30   6.84     6.77  1.25   \n",
       "\n",
       "      SC_PCR+     DC  DC_PCR+  effectif  \n",
       "0        0.00   0.00     0.00     54186  \n",
       "1        0.00   0.00     0.00     16776  \n",
       "2        0.00   0.00     0.00       464  \n",
       "3        6.00   0.00     0.00  12135472  \n",
       "4        0.00   0.00     0.00   1214317  \n",
       "...       ...    ...      ...       ...  \n",
       "7411     0.00   0.00     0.00     13005  \n",
       "7412     3.59   0.00     0.00    616999  \n",
       "7413     4.75  29.84    21.34    240617  \n",
       "7414     0.00   0.00     0.00      9302  \n",
       "7415     1.25   2.39     1.39    239457  \n",
       "\n",
       "[7416 rows x 14 columns]"
      ]
     },
     "execution_count": 57,
     "metadata": {},
     "output_type": "execute_result"
    }
   ],
   "source": [
    "data = pd.read_csv(\"drees-covid-age.csv\", sep=\";\", parse_dates=[\"date\"]).fillna(0)\n",
    "data"
   ]
  },
  {
   "cell_type": "markdown",
   "id": "ddcc0952",
   "metadata": {},
   "source": [
    "# Pivot par statut vaccinal et aggrégation \n",
    "\n",
    "On pivote les données pour avoir une colonne par statut vaccinal.\n",
    "Les statuts vaccinaux sont ensuite groupés :\n",
    "* Les 6 sous groupes \"complet\" => \"vax\"\n",
    "* Les non vaccinés et vaccinés une dose seulement => \"non vax\""
   ]
  },
  {
   "cell_type": "code",
   "execution_count": 75,
   "id": "c6b865ef",
   "metadata": {
    "ExecuteTime": {
     "end_time": "2021-12-22T16:43:31.901964Z",
     "start_time": "2021-12-22T16:43:31.885960Z"
    }
   },
   "outputs": [],
   "source": [
    "# Pivot par statut vaccinal, pour les décès et les effectifs\n",
    "dc = data.pivot(index=[\"age\", 'date'], columns='vac_statut', values=\"DC\").fillna(0)\n",
    "eff = data.pivot(index=[\"age\", 'date'], columns='vac_statut', values=\"effectif\").fillna(0)"
   ]
  },
  {
   "cell_type": "code",
   "execution_count": 76,
   "id": "02799a46",
   "metadata": {
    "ExecuteTime": {
     "end_time": "2021-12-22T16:46:04.635472Z",
     "start_time": "2021-12-22T16:46:04.630374Z"
    }
   },
   "outputs": [],
   "source": [
    "def vax_nvax(df) :\n",
    "    \"\"\"Aggrège les vax et non-vax\"\"\"\n",
    "\n",
    "    # Liste des 6 colonnes Complet ...\n",
    "    cols_complet = [col for col in df.columns if 'Complet' in col]\n",
    "\n",
    "    # On crée une colonne \"Complet\" somme des 6 autres\n",
    "    df[\"vax\"] = sum(df[col] for col in cols_complet)\n",
    "    \n",
    "    # Les primo dose sont classés dans les non vaccinés\n",
    "    df[\"non_vax\"] = df[\"Non-vaccinés\"] + df[\"Primo dose efficace\"] + df[\"Primo dose récente\"]\n",
    "    \n",
    "    return df[[\"non_vax\", \"vax\"]]"
   ]
  },
  {
   "cell_type": "code",
   "execution_count": 77,
   "id": "91dbade5",
   "metadata": {
    "ExecuteTime": {
     "end_time": "2021-12-22T16:46:06.332082Z",
     "start_time": "2021-12-22T16:46:06.325246Z"
    }
   },
   "outputs": [],
   "source": [
    "dc = vax_nvax(dc)"
   ]
  },
  {
   "cell_type": "code",
   "execution_count": 78,
   "id": "81b7020d",
   "metadata": {
    "ExecuteTime": {
     "end_time": "2021-12-22T16:46:06.637416Z",
     "start_time": "2021-12-22T16:46:06.630366Z"
    }
   },
   "outputs": [],
   "source": [
    "eff = vax_nvax(eff)"
   ]
  },
  {
   "cell_type": "markdown",
   "id": "702f3d03",
   "metadata": {},
   "source": [
    "# Ratios  & scénarios\n",
    "\n",
    "On aggrège les tableaux de décès et d'effectifs et on calcule les ratios :\n",
    " * **ratio_vax** = dc_vax / effectif_vax\n",
    " * **ratio_non_vax** = dc_non_vax / effectif_non_vax\n",
    " * **dc_vax_1m** = ratio_vax * 1000000\n",
    " * **dc_non_vax_1m** = ratio_non_vax * 1000000\n",
    " * **dc_0** (hypothèse 0% vax) = dc_non_vax + ratio_non_vax * effectif_vax\n",
    " * **dc_100** (hypothèse 100% vax) = dc_vax + ratio_vax * effectif_non_vax\n",
    " * **dc_evites** = dc_0 - (dc_vax + dc_non_vax)\n",
    " * **dc_evitables** = (dc_vax + dc_non_vax) - dc_100"
   ]
  },
  {
   "cell_type": "code",
   "execution_count": 62,
   "id": "b4ac07f0",
   "metadata": {
    "ExecuteTime": {
     "end_time": "2021-12-22T16:11:29.066183Z",
     "start_time": "2021-12-22T16:11:29.058873Z"
    }
   },
   "outputs": [],
   "source": [
    "# Aggregate two dataframes\n",
    "dc[\"eff_vax\"] = eff[\"vax\"]\n",
    "dc[\"eff_non_vax\"] = eff[\"non_vax\"]"
   ]
  },
  {
   "cell_type": "code",
   "execution_count": 63,
   "id": "d0da356f",
   "metadata": {
    "ExecuteTime": {
     "end_time": "2021-12-22T16:11:43.361186Z",
     "start_time": "2021-12-22T16:11:43.347468Z"
    }
   },
   "outputs": [],
   "source": [
    "# Ratio DC / effectif for each group\n",
    "dc[\"ratio_vax\"] = dc[\"vax\"] / eff[\"vax\"]\n",
    "dc[\"ratio_non_vax\"] = dc[\"non_vax\"] / eff[\"non_vax\"]\n",
    "\n",
    "# DC for 1 million of each group\n",
    "dc[\"dc_vax_1m\"] = dc[\"ratio_vax\"] * 1000000\n",
    "dc[\"dc_non_vax_1m\"] = dc[\"ratio_non_vax\"] * 1000000\n",
    "\n",
    "# If noone was vaccinated : \n",
    "# assume same death rate of vaccinated group\n",
    "dc[\"dc_0\"] = dc[\"non_vax\"]  + dc[\"ratio_non_vax\"] * eff[\"vax\"]\n",
    "\n",
    "# If everyone was vaccinated\n",
    "# assume same death rate for unvaccinated group\n",
    "dc[\"dc_100\"] = dc[\"vax\"] + dc[\"ratio_vax\"] * eff[\"non_vax\"]"
   ]
  },
  {
   "cell_type": "code",
   "execution_count": 65,
   "id": "d0ee8ac0",
   "metadata": {
    "ExecuteTime": {
     "end_time": "2021-12-22T16:11:47.590404Z",
     "start_time": "2021-12-22T16:11:47.577272Z"
    }
   },
   "outputs": [],
   "source": [
    "# Sum dataframe\n",
    "somme = dc.groupby(level=0).sum()\n",
    "somme = somme[[\"non_vax\", \"vax\", \"dc_0\", \"dc_100\", \"dc_vax_1m\", \"dc_non_vax_1m\"]]\n",
    "somme[\"dc_all\"] = (somme.vax+somme.non_vax)\n",
    "somme[\"saved\"] = somme.dc_0 - somme.dc_all\n",
    "somme[\"to_save\"] = somme.dc_all - somme.dc_100\n",
    "somme = somme.astype(int)"
   ]
  },
  {
   "cell_type": "markdown",
   "id": "fd39a814",
   "metadata": {},
   "source": [
    "# Graphes\n",
    "\n",
    "## Décès par tranche d'âge et statut vaccinal"
   ]
  },
  {
   "cell_type": "code",
   "execution_count": 81,
   "id": "2ad7c66f",
   "metadata": {
    "ExecuteTime": {
     "end_time": "2021-12-22T16:54:29.241309Z",
     "start_time": "2021-12-22T16:54:29.103100Z"
    }
   },
   "outputs": [
    {
     "data": {
      "text/plain": [
       "<matplotlib.legend.Legend at 0x7fc36b56a610>"
      ]
     },
     "execution_count": 81,
     "metadata": {},
     "output_type": "execute_result"
    },
    {
     "data": {
      "image/png": "[encoded data removed]",
      "text/plain": [
       "<Figure size 720x504 with 1 Axes>"
      ]
     },
     "metadata": {
      "needs_background": "light"
     },
     "output_type": "display_data"
    }
   ],
   "source": [
    "somme[[\"vax\", \"non_vax\"]].plot.bar(\n",
    "    title=\"Décès par tranche d'âge et par statut vaccinal\",\n",
    "    ylabel=\"Décès depuis juin 2021 [DRESS]\",\n",
    "    xlabel=\"Tranche d'âge\")\n",
    "plt.legend([\"Vaccinés\", \"Non vaccinés\"])"
   ]
  },
  {
   "cell_type": "markdown",
   "id": "c00c60a9",
   "metadata": {
    "ExecuteTime": {
     "end_time": "2021-12-22T16:52:48.257136Z",
     "start_time": "2021-12-22T16:52:48.255000Z"
    }
   },
   "source": [
    "## Décès par tranche d'âge et statut vaccinal, normés pour 1 million d'individus"
   ]
  },
  {
   "cell_type": "code",
   "execution_count": 80,
   "id": "608ae028",
   "metadata": {
    "ExecuteTime": {
     "end_time": "2021-12-22T16:52:59.444257Z",
     "start_time": "2021-12-22T16:52:59.296277Z"
    }
   },
   "outputs": [
    {
     "data": {
      "text/plain": [
       "<matplotlib.legend.Legend at 0x7fc36b56f410>"
      ]
     },
     "execution_count": 80,
     "metadata": {},
     "output_type": "execute_result"
    },
    {
     "data": {
      "image/png": "[encoded data removed]",
      "text/plain": [
       "<Figure size 720x504 with 1 Axes>"
      ]
     },
     "metadata": {
      "needs_background": "light"
     },
     "output_type": "display_data"
    }
   ],
   "source": [
    "somme[[\"dc_vax_1m\", \"dc_non_vax_1m\"]].plot.bar(\n",
    "    title=\"Décès pour 1M d'individus, par statut vaccinal et tranche d'âge\",\n",
    "    ylabel=\"Décès depuis juin 2021 [DRESS]\",\n",
    "    xlabel=\"Tranche d'âge\")\n",
    "plt.legend([\"Vaccinés\", \"Non vaccinés\"])"
   ]
  },
  {
   "cell_type": "code",
   "execution_count": 83,
   "id": "56489804",
   "metadata": {
    "ExecuteTime": {
     "end_time": "2021-12-22T16:55:35.333576Z",
     "start_time": "2021-12-22T16:55:35.173657Z"
    }
   },
   "outputs": [
    {
     "data": {
      "text/plain": [
       "<matplotlib.legend.Legend at 0x7fc36b4a9a50>"
      ]
     },
     "execution_count": 83,
     "metadata": {},
     "output_type": "execute_result"
    },
    {
     "data": {
      "image/png": "[encoded data removed]",
      "text/plain": [
       "<Figure size 720x504 with 1 Axes>"
      ]
     },
     "metadata": {
      "needs_background": "light"
     },
     "output_type": "display_data"
    }
   ],
   "source": [
    "somme[[\"dc_all\", \"dc_0\", \"dc_100\"]].plot.bar(\n",
    "    title=\"Comparaison des scénarios : réel / sans vaccin / 100% vaccin\",\n",
    "    ylabel=\"Décès depuis juin 2021 [DRESS]\",\n",
    "    xlabel=\"Tranche d'âge\")\n",
    "plt.legend([\"Décès réels\", \"Décès si 0% vaccinés\", \"Décès si 100% vaccinés\"])"
   ]
  },
  {
   "cell_type": "markdown",
   "id": "772b530b",
   "metadata": {
    "ExecuteTime": {
     "end_time": "2021-12-22T16:57:59.854153Z",
     "start_time": "2021-12-22T16:57:59.851179Z"
    }
   },
   "source": [
    "# Tableau récapitulatif"
   ]
  },
  {
   "cell_type": "code",
   "execution_count": 84,
   "id": "8267ae0b",
   "metadata": {
    "ExecuteTime": {
     "end_time": "2021-12-22T16:55:46.674478Z",
     "start_time": "2021-12-22T16:55:46.662165Z"
    },
    "scrolled": true
   },
   "outputs": [
    {
     "data": {
      "text/html": [
       "<div>\n",
       "<style scoped>\n",
       "    .dataframe tbody tr th:only-of-type {\n",
       "        vertical-align: middle;\n",
       "    }\n",
       "\n",
       "    .dataframe tbody tr th {\n",
       "        vertical-align: top;\n",
       "    }\n",
       "\n",
       "    .dataframe thead th {\n",
       "        text-align: right;\n",
       "    }\n",
       "</style>\n",
       "<table border=\"1\" class=\"dataframe\">\n",
       "  <thead>\n",
       "    <tr style=\"text-align: right;\">\n",
       "      <th>vac_statut</th>\n",
       "      <th>décès non-vax</th>\n",
       "      <th>décès vax</th>\n",
       "      <th>décès si 0% vacciné</th>\n",
       "      <th>décès si 100% vaccinés</th>\n",
       "      <th>décès évités</th>\n",
       "      <th>décès évitables</th>\n",
       "    </tr>\n",
       "    <tr>\n",
       "      <th>age</th>\n",
       "      <th></th>\n",
       "      <th></th>\n",
       "      <th></th>\n",
       "      <th></th>\n",
       "      <th></th>\n",
       "      <th></th>\n",
       "    </tr>\n",
       "  </thead>\n",
       "  <tbody>\n",
       "    <tr>\n",
       "      <th>[0,19]</th>\n",
       "      <td>11</td>\n",
       "      <td>2</td>\n",
       "      <td>13</td>\n",
       "      <td>10</td>\n",
       "      <td>0</td>\n",
       "      <td>2</td>\n",
       "    </tr>\n",
       "    <tr>\n",
       "      <th>[20,39]</th>\n",
       "      <td>85</td>\n",
       "      <td>22</td>\n",
       "      <td>277</td>\n",
       "      <td>32</td>\n",
       "      <td>169</td>\n",
       "      <td>75</td>\n",
       "    </tr>\n",
       "    <tr>\n",
       "      <th>[40,59]</th>\n",
       "      <td>563</td>\n",
       "      <td>163</td>\n",
       "      <td>2524</td>\n",
       "      <td>239</td>\n",
       "      <td>1797</td>\n",
       "      <td>487</td>\n",
       "    </tr>\n",
       "    <tr>\n",
       "      <th>[60,79]</th>\n",
       "      <td>2249</td>\n",
       "      <td>1112</td>\n",
       "      <td>15881</td>\n",
       "      <td>1300</td>\n",
       "      <td>12520</td>\n",
       "      <td>2061</td>\n",
       "    </tr>\n",
       "    <tr>\n",
       "      <th>[80;+]</th>\n",
       "      <td>2483</td>\n",
       "      <td>1774</td>\n",
       "      <td>17574</td>\n",
       "      <td>2057</td>\n",
       "      <td>13316</td>\n",
       "      <td>2199</td>\n",
       "    </tr>\n",
       "    <tr>\n",
       "      <th>Total</th>\n",
       "      <td>5391</td>\n",
       "      <td>3073</td>\n",
       "      <td>36269</td>\n",
       "      <td>3638</td>\n",
       "      <td>27802</td>\n",
       "      <td>4824</td>\n",
       "    </tr>\n",
       "  </tbody>\n",
       "</table>\n",
       "</div>"
      ],
      "text/plain": [
       "vac_statut  décès non-vax  décès vax  décès si 0% vacciné  \\\n",
       "age                                                         \n",
       "[0,19]                 11          2                   13   \n",
       "[20,39]                85         22                  277   \n",
       "[40,59]               563        163                 2524   \n",
       "[60,79]              2249       1112                15881   \n",
       "[80;+]               2483       1774                17574   \n",
       "Total                5391       3073                36269   \n",
       "\n",
       "vac_statut  décès si 100% vaccinés  décès évités  décès évitables  \n",
       "age                                                                \n",
       "[0,19]                          10             0                2  \n",
       "[20,39]                         32           169               75  \n",
       "[40,59]                        239          1797              487  \n",
       "[60,79]                       1300         12520             2061  \n",
       "[80;+]                        2057         13316             2199  \n",
       "Total                         3638         27802             4824  "
      ]
     },
     "execution_count": 84,
     "metadata": {},
     "output_type": "execute_result"
    }
   ],
   "source": [
    "summary = somme.append(somme.sum().rename('Total'))\n",
    "summary[[\"non_vax\", \"vax\", \"dc_0\", \"dc_100\", \"saved\", \"to_save\"]].rename(columns={\n",
    "    \"non_vax\" : \"décès non-vax\", \n",
    "    \"vax\" : \"décès vax\",\n",
    "    \"dc_0\" : \"décès si 0% vacciné\", \n",
    "    \"dc_100\" : \"décès si 100% vaccinés\",\n",
    "    \"saved\" : \"décès évités\", \n",
    "    \"to_save\" : \"décès évitables\", \n",
    "})"
   ]
  }
 ],
 "metadata": {
  "kernelspec": {
   "display_name": "Python 3 (ipykernel)",
   "language": "python",
   "name": "python3"
  },
  "language_info": {
   "codemirror_mode": {
    "name": "ipython",
    "version": 3
   },
   "file_extension": ".py",
   "mimetype": "text/x-python",
   "name": "python",
   "nbconvert_exporter": "python",
   "pygments_lexer": "ipython3",
   "version": "3.7.11"
  },
  "toc": {
   "base_numbering": 1,
   "nav_menu": {},
   "number_sections": true,
   "sideBar": true,
   "skip_h1_title": false,
   "title_cell": "Table of Contents",
   "title_sidebar": "Contents",
   "toc_cell": false,
   "toc_position": {},
   "toc_section_display": true,
   "toc_window_display": false
  },
  "varInspector": {
   "cols": {
    "lenName": 16,
    "lenType": 16,
    "lenVar": 40
   },
   "kernels_config": {
    "python": {
     "delete_cmd_postfix": "",
     "delete_cmd_prefix": "del ",
     "library": "var_list.py",
     "varRefreshCmd": "print(var_dic_list())"
    },
    "r": {
     "delete_cmd_postfix": ") ",
     "delete_cmd_prefix": "rm(",
     "library": "var_list.r",
     "varRefreshCmd": "cat(var_dic_list()) "
    }
   },
   "types_to_exclude": [
    "module",
    "function",
    "builtin_function_or_method",
    "instance",
    "_Feature"
   ],
   "window_display": false
  }
 },
 "nbformat": 4,
 "nbformat_minor": 5
}
