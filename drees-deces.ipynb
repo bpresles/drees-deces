{
 "cells": [
  {
   "cell_type": "markdown",
   "id": "877e8fc5",
   "metadata": {},
   "source": [
    "# Analyse des décès covid par statut vaccinal \n",
    "\n",
    "\n",
    "## Résumé\n",
    "\n",
    "Cette feuille de calcul [Jupyter](https://jupyter.org/) analyse les données de décès de la DREES, par statut vaccinal et par âge, et tente d'évaluer les décès évités par la vaccination, et ceux qui auraient pu l'être avec une couverture vaccinale complète.\n",
    "\n",
    "\n",
    "## Données\n",
    "\n",
    "Les données proviennent du site de la DREES. Elle comportent les décès depuis juin 2021, par statut vaccinal, dat et tranche d'âge\n",
    "\n",
    "https://data.drees.solidarites-sante.gouv.fr/explore/dataset/covid-19-resultats-par-age-issus-des-appariements-entre-si-vic-si-dep-et-vac-si/information/\n",
    "\n",
    "## Méthodologie \n",
    "\n",
    "Pour chaque tranche d'âge, chaque statut vaccinal et chaque date, la DREES fournit les effectifs du groupe correspondant (age et statut vaccinal), à date. Ceci permet de calculer une mortalité journalière pour chaque sous groupe.\n",
    "\n",
    "Il est alors possible de simuler des scénarios de couverture vaccinale (0% et 100%) appliquant la mortalité d'un sous groupe à l'autre, pour une même tranche d'âge.\n",
    "\n",
    "## Limitations\n",
    "\n",
    "Ces calculs reposent sur l'hypothèse que la différence de mortalité des groupes vaccinés et non-vaccinés dépend essentiellement de leur statut vaccinal. Le facteur de confusion \"âge\" est pris en compte par la strafification par âge déjà appliquée par la DREES. \n",
    "\n",
    "D'autres facteurs de confusion peuvent néamoins subsister:\n",
    "\n",
    "* **Comorbidités** : Chez les plus jeunes surtout (0-19 ans), les individus présentant des comorbidités ont été vaccinés en priorité. L'ignorance de cette corrélation tend à sous estimer l'impact positif de la vaccination.\n",
    "\n",
    "* **Classes sociales** : Les classes populaires sont à la fois moins plus vulnérables et moins vaccinées que le reste de la population. [1](https://www.cdc.gov/mmwr/volumes/70/wr/mm7022e1.htm) [2](https://www.huffingtonpost.fr/entry/vaccination-la-richesse-ou-les-diplomes-insuffisants-pour-expliquer-le-choix-de-ceux-qui-decident-de-ne-pas-le-faire_fr_61166e34e4b07c1403142492). L'ignorance de cette corrélation tend à surestimer l'impact positif de la vaccination.\n",
    "\n",
    "* **Transmission** : Cette étude ne considère pas l'effet de la vaccination sur la transmission ([évalué à 40% environ](https://www.france24.com/en/live-news/20211124-vaccines-reduce-covid-transmission-by-40-who)). L'ignorance de cet tend à sous estimer l'impact positif de la vaccination.\n",
    "\n",
    "# Code \n",
    "\n",
    "Le code est disponible sur Github :\n",
    "https://github.com/raphaeljolivet/drees-deces\n",
    "\n",
    "\n",
    "# Auteur\n",
    "\n",
    "Raphaël Jolivet : https://mamot.fr/@RaphJ\n",
    "\n",
    "\n",
    "# Licence\n",
    "\n",
    "Cette feuille de calcul est distribuée sous [licence CC-By](https://creativecommons.org/licenses/by/4.0/)\n",
    "\n"
   ]
  },
  {
   "cell_type": "markdown",
   "id": "d98103b2",
   "metadata": {
    "ExecuteTime": {
     "end_time": "2021-12-22T16:42:16.213296Z",
     "start_time": "2021-12-22T16:42:16.209773Z"
    }
   },
   "source": [
    "# Initialisation"
   ]
  },
  {
   "cell_type": "code",
   "execution_count": 111,
   "id": "8e934514",
   "metadata": {
    "ExecuteTime": {
     "end_time": "2022-01-26T09:54:02.370923Z",
     "start_time": "2022-01-26T09:54:02.359586Z"
    }
   },
   "outputs": [],
   "source": [
    "# Import de librairies\n",
    "import pandas as pd\n",
    "import matplotlib.pyplot as plt\n",
    "\n",
    "# Taille par défaut des graphes\n",
    "plt.rc('figure', figsize=(13,10))\n",
    "plt.rcParams.update({\n",
    "    \"figure.facecolor\":  (1.0, 1.0, 1.0, 0.0), \n",
    "    \"savefig.facecolor\": (1.0, 1.0, 1.0, 0.0), \n",
    "})\n",
    "plt.rcParams[\"font.size\"]=12"
   ]
  },
  {
   "cell_type": "markdown",
   "id": "c06c6cbd",
   "metadata": {
    "ExecuteTime": {
     "end_time": "2021-12-22T16:42:01.538268Z",
     "start_time": "2021-12-22T16:42:01.534831Z"
    }
   },
   "source": [
    "# Chargement des données"
   ]
  },
  {
   "cell_type": "code",
   "execution_count": 112,
   "id": "5a83ad24",
   "metadata": {
    "ExecuteTime": {
     "end_time": "2022-01-26T09:54:03.573976Z",
     "start_time": "2022-01-26T09:54:03.188594Z"
    }
   },
   "outputs": [
    {
     "data": {
      "text/html": [
       "<div>\n",
       "<style scoped>\n",
       "    .dataframe tbody tr th:only-of-type {\n",
       "        vertical-align: middle;\n",
       "    }\n",
       "\n",
       "    .dataframe tbody tr th {\n",
       "        vertical-align: top;\n",
       "    }\n",
       "\n",
       "    .dataframe thead th {\n",
       "        text-align: right;\n",
       "    }\n",
       "</style>\n",
       "<table border=\"1\" class=\"dataframe\">\n",
       "  <thead>\n",
       "    <tr style=\"text-align: right;\">\n",
       "      <th></th>\n",
       "      <th>date</th>\n",
       "      <th>vac_statut</th>\n",
       "      <th>age</th>\n",
       "      <th>nb_PCR</th>\n",
       "      <th>nb_PCR_sympt</th>\n",
       "      <th>nb_PCR+_sympt</th>\n",
       "      <th>nb_PCR+</th>\n",
       "      <th>HC</th>\n",
       "      <th>HC_PCR+</th>\n",
       "      <th>SC</th>\n",
       "      <th>SC_PCR+</th>\n",
       "      <th>DC</th>\n",
       "      <th>DC_PCR+</th>\n",
       "      <th>effectif</th>\n",
       "      <th>PCR+_pourcent_omicron</th>\n",
       "      <th>PCR+_sympt_pourcent_omicron</th>\n",
       "      <th>HC_pourcent_omicron</th>\n",
       "      <th>SC_pourcent_omicron</th>\n",
       "    </tr>\n",
       "  </thead>\n",
       "  <tbody>\n",
       "    <tr>\n",
       "      <th>0</th>\n",
       "      <td>2021-05-31</td>\n",
       "      <td>Complet de moins de 3 mois - sans rappel</td>\n",
       "      <td>[0,19]</td>\n",
       "      <td>271.00</td>\n",
       "      <td>18.11</td>\n",
       "      <td>5.61</td>\n",
       "      <td>15.18</td>\n",
       "      <td>0.00</td>\n",
       "      <td>0.00</td>\n",
       "      <td>0.00</td>\n",
       "      <td>0.00</td>\n",
       "      <td>0.00</td>\n",
       "      <td>0.00</td>\n",
       "      <td>34678.29</td>\n",
       "      <td>38.64</td>\n",
       "      <td>50.00</td>\n",
       "      <td>0.00</td>\n",
       "      <td>0.00</td>\n",
       "    </tr>\n",
       "    <tr>\n",
       "      <th>1</th>\n",
       "      <td>2021-05-31</td>\n",
       "      <td>Complet entre 3 mois et 6 mois - sans rappel</td>\n",
       "      <td>[0,19]</td>\n",
       "      <td>7.04</td>\n",
       "      <td>1.02</td>\n",
       "      <td>0.00</td>\n",
       "      <td>0.00</td>\n",
       "      <td>0.00</td>\n",
       "      <td>0.00</td>\n",
       "      <td>0.00</td>\n",
       "      <td>0.00</td>\n",
       "      <td>0.00</td>\n",
       "      <td>0.00</td>\n",
       "      <td>1004.00</td>\n",
       "      <td>0.00</td>\n",
       "      <td>0.00</td>\n",
       "      <td>0.00</td>\n",
       "      <td>0.00</td>\n",
       "    </tr>\n",
       "    <tr>\n",
       "      <th>2</th>\n",
       "      <td>2021-05-31</td>\n",
       "      <td>Primo dose récente</td>\n",
       "      <td>[20,39]</td>\n",
       "      <td>7364.73</td>\n",
       "      <td>710.22</td>\n",
       "      <td>122.77</td>\n",
       "      <td>292.72</td>\n",
       "      <td>0.22</td>\n",
       "      <td>0.00</td>\n",
       "      <td>0.00</td>\n",
       "      <td>0.00</td>\n",
       "      <td>0.00</td>\n",
       "      <td>0.00</td>\n",
       "      <td>1668821.68</td>\n",
       "      <td>34.58</td>\n",
       "      <td>34.05</td>\n",
       "      <td>0.00</td>\n",
       "      <td>0.00</td>\n",
       "    </tr>\n",
       "    <tr>\n",
       "      <th>3</th>\n",
       "      <td>2021-05-31</td>\n",
       "      <td>Complet de moins de 3 mois - sans rappel</td>\n",
       "      <td>[20,39]</td>\n",
       "      <td>4560.87</td>\n",
       "      <td>346.44</td>\n",
       "      <td>55.01</td>\n",
       "      <td>114.63</td>\n",
       "      <td>0.76</td>\n",
       "      <td>0.33</td>\n",
       "      <td>1.22</td>\n",
       "      <td>0.00</td>\n",
       "      <td>0.00</td>\n",
       "      <td>0.00</td>\n",
       "      <td>773031.83</td>\n",
       "      <td>40.24</td>\n",
       "      <td>35.67</td>\n",
       "      <td>0.00</td>\n",
       "      <td>0.00</td>\n",
       "    </tr>\n",
       "    <tr>\n",
       "      <th>4</th>\n",
       "      <td>2021-05-31</td>\n",
       "      <td>Non-vaccinés</td>\n",
       "      <td>[60,79]</td>\n",
       "      <td>13943.34</td>\n",
       "      <td>977.24</td>\n",
       "      <td>211.57</td>\n",
       "      <td>634.52</td>\n",
       "      <td>88.08</td>\n",
       "      <td>64.28</td>\n",
       "      <td>35.07</td>\n",
       "      <td>28.25</td>\n",
       "      <td>10.00</td>\n",
       "      <td>7.00</td>\n",
       "      <td>3492902.49</td>\n",
       "      <td>27.45</td>\n",
       "      <td>15.87</td>\n",
       "      <td>45.10</td>\n",
       "      <td>100.00</td>\n",
       "    </tr>\n",
       "    <tr>\n",
       "      <th>...</th>\n",
       "      <td>...</td>\n",
       "      <td>...</td>\n",
       "      <td>...</td>\n",
       "      <td>...</td>\n",
       "      <td>...</td>\n",
       "      <td>...</td>\n",
       "      <td>...</td>\n",
       "      <td>...</td>\n",
       "      <td>...</td>\n",
       "      <td>...</td>\n",
       "      <td>...</td>\n",
       "      <td>...</td>\n",
       "      <td>...</td>\n",
       "      <td>...</td>\n",
       "      <td>...</td>\n",
       "      <td>...</td>\n",
       "      <td>...</td>\n",
       "      <td>...</td>\n",
       "    </tr>\n",
       "    <tr>\n",
       "      <th>9062</th>\n",
       "      <td>2022-01-09</td>\n",
       "      <td>Primo dose efficace</td>\n",
       "      <td>[60,79]</td>\n",
       "      <td>149.60</td>\n",
       "      <td>18.89</td>\n",
       "      <td>5.62</td>\n",
       "      <td>29.56</td>\n",
       "      <td>9.00</td>\n",
       "      <td>5.61</td>\n",
       "      <td>1.74</td>\n",
       "      <td>1.72</td>\n",
       "      <td>5.07</td>\n",
       "      <td>3.00</td>\n",
       "      <td>122682.50</td>\n",
       "      <td>80.77</td>\n",
       "      <td>100.00</td>\n",
       "      <td>27.27</td>\n",
       "      <td>0.00</td>\n",
       "    </tr>\n",
       "    <tr>\n",
       "      <th>9063</th>\n",
       "      <td>2022-01-09</td>\n",
       "      <td>Complet de moins de 3 mois - sans rappel</td>\n",
       "      <td>[60,79]</td>\n",
       "      <td>420.93</td>\n",
       "      <td>48.16</td>\n",
       "      <td>18.95</td>\n",
       "      <td>54.27</td>\n",
       "      <td>10.42</td>\n",
       "      <td>7.17</td>\n",
       "      <td>1.28</td>\n",
       "      <td>1.10</td>\n",
       "      <td>0.27</td>\n",
       "      <td>0.25</td>\n",
       "      <td>366408.70</td>\n",
       "      <td>100.00</td>\n",
       "      <td>100.00</td>\n",
       "      <td>76.25</td>\n",
       "      <td>0.00</td>\n",
       "    </tr>\n",
       "    <tr>\n",
       "      <th>9064</th>\n",
       "      <td>2022-01-09</td>\n",
       "      <td>Complet entre 3 mois et 6 mois - sans rappel</td>\n",
       "      <td>[60,79]</td>\n",
       "      <td>1327.17</td>\n",
       "      <td>185.68</td>\n",
       "      <td>69.78</td>\n",
       "      <td>248.26</td>\n",
       "      <td>56.37</td>\n",
       "      <td>42.93</td>\n",
       "      <td>15.97</td>\n",
       "      <td>12.25</td>\n",
       "      <td>12.24</td>\n",
       "      <td>11.33</td>\n",
       "      <td>1503950.28</td>\n",
       "      <td>88.67</td>\n",
       "      <td>98.97</td>\n",
       "      <td>85.39</td>\n",
       "      <td>53.35</td>\n",
       "    </tr>\n",
       "    <tr>\n",
       "      <th>9065</th>\n",
       "      <td>2022-01-09</td>\n",
       "      <td>Non-vaccinés</td>\n",
       "      <td>[80;+]</td>\n",
       "      <td>693.61</td>\n",
       "      <td>134.56</td>\n",
       "      <td>57.96</td>\n",
       "      <td>169.11</td>\n",
       "      <td>120.23</td>\n",
       "      <td>86.18</td>\n",
       "      <td>9.33</td>\n",
       "      <td>6.76</td>\n",
       "      <td>51.30</td>\n",
       "      <td>38.95</td>\n",
       "      <td>421986.48</td>\n",
       "      <td>69.85</td>\n",
       "      <td>54.51</td>\n",
       "      <td>50.94</td>\n",
       "      <td>75.00</td>\n",
       "    </tr>\n",
       "    <tr>\n",
       "      <th>9066</th>\n",
       "      <td>2022-01-09</td>\n",
       "      <td>Primo dose efficace</td>\n",
       "      <td>[80;+]</td>\n",
       "      <td>112.86</td>\n",
       "      <td>14.33</td>\n",
       "      <td>1.55</td>\n",
       "      <td>15.62</td>\n",
       "      <td>7.65</td>\n",
       "      <td>4.30</td>\n",
       "      <td>0.16</td>\n",
       "      <td>0.14</td>\n",
       "      <td>4.66</td>\n",
       "      <td>3.52</td>\n",
       "      <td>53725.54</td>\n",
       "      <td>100.00</td>\n",
       "      <td>100.00</td>\n",
       "      <td>42.86</td>\n",
       "      <td>0.00</td>\n",
       "    </tr>\n",
       "  </tbody>\n",
       "</table>\n",
       "<p>9067 rows × 18 columns</p>\n",
       "</div>"
      ],
      "text/plain": [
       "           date                                    vac_statut      age  \\\n",
       "0    2021-05-31      Complet de moins de 3 mois - sans rappel   [0,19]   \n",
       "1    2021-05-31  Complet entre 3 mois et 6 mois - sans rappel   [0,19]   \n",
       "2    2021-05-31                            Primo dose récente  [20,39]   \n",
       "3    2021-05-31      Complet de moins de 3 mois - sans rappel  [20,39]   \n",
       "4    2021-05-31                                  Non-vaccinés  [60,79]   \n",
       "...         ...                                           ...      ...   \n",
       "9062 2022-01-09                           Primo dose efficace  [60,79]   \n",
       "9063 2022-01-09      Complet de moins de 3 mois - sans rappel  [60,79]   \n",
       "9064 2022-01-09  Complet entre 3 mois et 6 mois - sans rappel  [60,79]   \n",
       "9065 2022-01-09                                  Non-vaccinés   [80;+]   \n",
       "9066 2022-01-09                           Primo dose efficace   [80;+]   \n",
       "\n",
       "        nb_PCR  nb_PCR_sympt  nb_PCR+_sympt  nb_PCR+      HC  HC_PCR+     SC  \\\n",
       "0       271.00         18.11           5.61    15.18    0.00     0.00   0.00   \n",
       "1         7.04          1.02           0.00     0.00    0.00     0.00   0.00   \n",
       "2      7364.73        710.22         122.77   292.72    0.22     0.00   0.00   \n",
       "3      4560.87        346.44          55.01   114.63    0.76     0.33   1.22   \n",
       "4     13943.34        977.24         211.57   634.52   88.08    64.28  35.07   \n",
       "...        ...           ...            ...      ...     ...      ...    ...   \n",
       "9062    149.60         18.89           5.62    29.56    9.00     5.61   1.74   \n",
       "9063    420.93         48.16          18.95    54.27   10.42     7.17   1.28   \n",
       "9064   1327.17        185.68          69.78   248.26   56.37    42.93  15.97   \n",
       "9065    693.61        134.56          57.96   169.11  120.23    86.18   9.33   \n",
       "9066    112.86         14.33           1.55    15.62    7.65     4.30   0.16   \n",
       "\n",
       "      SC_PCR+     DC  DC_PCR+    effectif  PCR+_pourcent_omicron  \\\n",
       "0        0.00   0.00     0.00    34678.29                  38.64   \n",
       "1        0.00   0.00     0.00     1004.00                   0.00   \n",
       "2        0.00   0.00     0.00  1668821.68                  34.58   \n",
       "3        0.00   0.00     0.00   773031.83                  40.24   \n",
       "4       28.25  10.00     7.00  3492902.49                  27.45   \n",
       "...       ...    ...      ...         ...                    ...   \n",
       "9062     1.72   5.07     3.00   122682.50                  80.77   \n",
       "9063     1.10   0.27     0.25   366408.70                 100.00   \n",
       "9064    12.25  12.24    11.33  1503950.28                  88.67   \n",
       "9065     6.76  51.30    38.95   421986.48                  69.85   \n",
       "9066     0.14   4.66     3.52    53725.54                 100.00   \n",
       "\n",
       "      PCR+_sympt_pourcent_omicron  HC_pourcent_omicron  SC_pourcent_omicron  \n",
       "0                           50.00                 0.00                 0.00  \n",
       "1                            0.00                 0.00                 0.00  \n",
       "2                           34.05                 0.00                 0.00  \n",
       "3                           35.67                 0.00                 0.00  \n",
       "4                           15.87                45.10               100.00  \n",
       "...                           ...                  ...                  ...  \n",
       "9062                       100.00                27.27                 0.00  \n",
       "9063                       100.00                76.25                 0.00  \n",
       "9064                        98.97                85.39                53.35  \n",
       "9065                        54.51                50.94                75.00  \n",
       "9066                       100.00                42.86                 0.00  \n",
       "\n",
       "[9067 rows x 18 columns]"
      ]
     },
     "execution_count": 112,
     "metadata": {},
     "output_type": "execute_result"
    }
   ],
   "source": [
    "data = pd.read_csv(\"drees-covid-age.csv\", sep=\";\", parse_dates=[\"date\"]) \\\n",
    "    .fillna(0)\n",
    "data"
   ]
  },
  {
   "cell_type": "markdown",
   "id": "ddcc0952",
   "metadata": {},
   "source": [
    "# Pivot par statut vaccinal et aggrégation \n",
    "\n",
    "On pivote les données pour avoir une colonne par statut vaccinal.\n",
    "Les statuts vaccinaux sont ensuite groupés :\n",
    "* Les 6 sous groupes \"complet\" => \"vax\"\n",
    "* Les non vaccinés et vaccinés une dose seulement => \"non vax\""
   ]
  },
  {
   "cell_type": "code",
   "execution_count": 113,
   "id": "c6b865ef",
   "metadata": {
    "ExecuteTime": {
     "end_time": "2022-01-26T09:54:03.697514Z",
     "start_time": "2022-01-26T09:54:03.683953Z"
    }
   },
   "outputs": [],
   "source": [
    "# Pivot par statut vaccinal, pour les décès et les effectifs\n",
    "dc = data.pivot(index=[\"age\", 'date'], columns='vac_statut', values=\"DC\").fillna(0)\n",
    "eff = data.pivot(index=[\"age\", 'date'], columns='vac_statut', values=\"effectif\").fillna(0)"
   ]
  },
  {
   "cell_type": "code",
   "execution_count": 114,
   "id": "02799a46",
   "metadata": {
    "ExecuteTime": {
     "end_time": "2022-01-26T09:54:03.807787Z",
     "start_time": "2022-01-26T09:54:03.803179Z"
    }
   },
   "outputs": [],
   "source": [
    "def vax_nvax(df) :\n",
    "    \"\"\"Aggrège les vax et non-vax\"\"\"\n",
    "\n",
    "    # Liste des 6 colonnes Complet ...\n",
    "    cols_complet = [col for col in df.columns if 'Complet' in col]\n",
    "\n",
    "    # On crée une colonne \"Complet\" somme des 6 autres\n",
    "    df[\"vax\"] = sum(df[col] for col in cols_complet)\n",
    "    \n",
    "    # Les primo dose sont classés dans les non vaccinés\n",
    "    df[\"non_vax\"] = df[\"Non-vaccinés\"] + df[\"Primo dose efficace\"] + df[\"Primo dose récente\"]\n",
    "    \n",
    "    return df[[\"non_vax\", \"vax\"]]"
   ]
  },
  {
   "cell_type": "code",
   "execution_count": 115,
   "id": "91dbade5",
   "metadata": {
    "ExecuteTime": {
     "end_time": "2022-01-26T09:54:03.924963Z",
     "start_time": "2022-01-26T09:54:03.918417Z"
    }
   },
   "outputs": [],
   "source": [
    "dc = vax_nvax(dc)"
   ]
  },
  {
   "cell_type": "code",
   "execution_count": 116,
   "id": "81b7020d",
   "metadata": {
    "ExecuteTime": {
     "end_time": "2022-01-26T09:54:04.044486Z",
     "start_time": "2022-01-26T09:54:04.038479Z"
    }
   },
   "outputs": [],
   "source": [
    "eff = vax_nvax(eff)"
   ]
  },
  {
   "cell_type": "markdown",
   "id": "702f3d03",
   "metadata": {},
   "source": [
    "# Ratios  & scénarios\n",
    "\n",
    "On aggrège les tableaux de décès et d'effectifs et on calcule les ratios :\n",
    " * **ratio_vax** = dc_vax / effectif_vax\n",
    " * **ratio_non_vax** = dc_non_vax / effectif_non_vax\n",
    " * **dc_vax_1m** = ratio_vax * 1000000\n",
    " * **dc_non_vax_1m** = ratio_non_vax * 1000000\n",
    " * **dc_0** (hypothèse 0% vax) = dc_non_vax + ratio_non_vax * effectif_vax\n",
    " * **dc_100** (hypothèse 100% vax) = dc_vax + ratio_vax * effectif_non_vax\n",
    " * **dc_evites** = dc_0 - (dc_vax + dc_non_vax)\n",
    " * **dc_evitables** = (dc_vax + dc_non_vax) - dc_100"
   ]
  },
  {
   "cell_type": "code",
   "execution_count": 117,
   "id": "b4ac07f0",
   "metadata": {
    "ExecuteTime": {
     "end_time": "2022-01-26T09:54:04.925357Z",
     "start_time": "2022-01-26T09:54:04.912211Z"
    }
   },
   "outputs": [],
   "source": [
    "# Aggregate two dataframes\n",
    "dc[\"eff_vax\"] = eff[\"vax\"]\n",
    "dc[\"eff_non_vax\"] = eff[\"non_vax\"]"
   ]
  },
  {
   "cell_type": "code",
   "execution_count": 118,
   "id": "d0da356f",
   "metadata": {
    "ExecuteTime": {
     "end_time": "2022-01-26T09:54:05.077536Z",
     "start_time": "2022-01-26T09:54:05.066626Z"
    }
   },
   "outputs": [],
   "source": [
    "# Ratio DC / effectif for each group\n",
    "dc[\"ratio_vax\"] = dc[\"vax\"] / eff[\"vax\"]\n",
    "dc[\"ratio_non_vax\"] = dc[\"non_vax\"] / eff[\"non_vax\"]\n",
    "\n",
    "# DC for 1 million of each group\n",
    "dc[\"dc_vax_1m\"] = dc[\"ratio_vax\"] * 1000000\n",
    "dc[\"dc_non_vax_1m\"] = dc[\"ratio_non_vax\"] * 1000000\n",
    "\n",
    "# If noone was vaccinated : \n",
    "# assume same death rate of vaccinated group\n",
    "dc[\"dc_0\"] = dc[\"non_vax\"]  + dc[\"ratio_non_vax\"] * eff[\"vax\"]\n",
    "\n",
    "# If everyone was vaccinated\n",
    "# assume same death rate for unvaccinated group\n",
    "dc[\"dc_100\"] = dc[\"vax\"] + dc[\"ratio_vax\"] * eff[\"non_vax\"]"
   ]
  },
  {
   "cell_type": "code",
   "execution_count": 119,
   "id": "d0ee8ac0",
   "metadata": {
    "ExecuteTime": {
     "end_time": "2022-01-26T09:54:05.281781Z",
     "start_time": "2022-01-26T09:54:05.263064Z"
    }
   },
   "outputs": [
    {
     "data": {
      "text/html": [
       "<div>\n",
       "<style scoped>\n",
       "    .dataframe tbody tr th:only-of-type {\n",
       "        vertical-align: middle;\n",
       "    }\n",
       "\n",
       "    .dataframe tbody tr th {\n",
       "        vertical-align: top;\n",
       "    }\n",
       "\n",
       "    .dataframe thead th {\n",
       "        text-align: right;\n",
       "    }\n",
       "</style>\n",
       "<table border=\"1\" class=\"dataframe\">\n",
       "  <thead>\n",
       "    <tr style=\"text-align: right;\">\n",
       "      <th>vac_statut</th>\n",
       "      <th>non_vax</th>\n",
       "      <th>vax</th>\n",
       "      <th>dc_0</th>\n",
       "      <th>dc_100</th>\n",
       "      <th>dc_vax_1m</th>\n",
       "      <th>dc_non_vax_1m</th>\n",
       "      <th>eff_vax</th>\n",
       "      <th>dc_all</th>\n",
       "      <th>saved</th>\n",
       "      <th>to_save</th>\n",
       "    </tr>\n",
       "    <tr>\n",
       "      <th>age</th>\n",
       "      <th></th>\n",
       "      <th></th>\n",
       "      <th></th>\n",
       "      <th></th>\n",
       "      <th></th>\n",
       "      <th></th>\n",
       "      <th></th>\n",
       "      <th></th>\n",
       "      <th></th>\n",
       "      <th></th>\n",
       "    </tr>\n",
       "  </thead>\n",
       "  <tbody>\n",
       "    <tr>\n",
       "      <th>[0,19]</th>\n",
       "      <td>18</td>\n",
       "      <td>4</td>\n",
       "      <td>24</td>\n",
       "      <td>12</td>\n",
       "      <td>0</td>\n",
       "      <td>1</td>\n",
       "      <td>66</td>\n",
       "      <td>22</td>\n",
       "      <td>2</td>\n",
       "      <td>9</td>\n",
       "    </tr>\n",
       "    <tr>\n",
       "      <th>[20,39]</th>\n",
       "      <td>125</td>\n",
       "      <td>38</td>\n",
       "      <td>559</td>\n",
       "      <td>52</td>\n",
       "      <td>3</td>\n",
       "      <td>35</td>\n",
       "      <td>91</td>\n",
       "      <td>163</td>\n",
       "      <td>395</td>\n",
       "      <td>111</td>\n",
       "    </tr>\n",
       "    <tr>\n",
       "      <th>[40,59]</th>\n",
       "      <td>796</td>\n",
       "      <td>315</td>\n",
       "      <td>4513</td>\n",
       "      <td>411</td>\n",
       "      <td>23</td>\n",
       "      <td>260</td>\n",
       "      <td>91</td>\n",
       "      <td>1111</td>\n",
       "      <td>3401</td>\n",
       "      <td>699</td>\n",
       "    </tr>\n",
       "    <tr>\n",
       "      <th>[60,79]</th>\n",
       "      <td>3324</td>\n",
       "      <td>2365</td>\n",
       "      <td>23884</td>\n",
       "      <td>2737</td>\n",
       "      <td>198</td>\n",
       "      <td>1730</td>\n",
       "      <td>89</td>\n",
       "      <td>5689</td>\n",
       "      <td>18195</td>\n",
       "      <td>2951</td>\n",
       "    </tr>\n",
       "    <tr>\n",
       "      <th>[80;+]</th>\n",
       "      <td>3971</td>\n",
       "      <td>3306</td>\n",
       "      <td>24066</td>\n",
       "      <td>3947</td>\n",
       "      <td>1031</td>\n",
       "      <td>6285</td>\n",
       "      <td>85</td>\n",
       "      <td>7277</td>\n",
       "      <td>16788</td>\n",
       "      <td>3330</td>\n",
       "    </tr>\n",
       "  </tbody>\n",
       "</table>\n",
       "</div>"
      ],
      "text/plain": [
       "vac_statut  non_vax   vax   dc_0  dc_100  dc_vax_1m  dc_non_vax_1m  eff_vax  \\\n",
       "age                                                                           \n",
       "[0,19]           18     4     24      12          0              1       66   \n",
       "[20,39]         125    38    559      52          3             35       91   \n",
       "[40,59]         796   315   4513     411         23            260       91   \n",
       "[60,79]        3324  2365  23884    2737        198           1730       89   \n",
       "[80;+]         3971  3306  24066    3947       1031           6285       85   \n",
       "\n",
       "vac_statut  dc_all  saved  to_save  \n",
       "age                                 \n",
       "[0,19]          22      2        9  \n",
       "[20,39]        163    395      111  \n",
       "[40,59]       1111   3401      699  \n",
       "[60,79]       5689  18195     2951  \n",
       "[80;+]        7277  16788     3330  "
      ]
     },
     "execution_count": 119,
     "metadata": {},
     "output_type": "execute_result"
    }
   ],
   "source": [
    "# Sum dataframe\n",
    "somme = dc.groupby(level=0).sum()\n",
    "somme = somme[[\"non_vax\", \"vax\", \"dc_0\", \"dc_100\", \"dc_vax_1m\", \"dc_non_vax_1m\"]]\n",
    "\n",
    "# Efficacite vaccinale\n",
    "somme[\"eff_vax\"] = 100 - 100 * somme[\"dc_vax_1m\"] / (somme[\"dc_non_vax_1m\"] + somme[\"dc_vax_1m\"])\n",
    "somme[\"dc_all\"] = (somme.vax+somme.non_vax)\n",
    "somme[\"saved\"] = somme.dc_0 - somme.dc_all\n",
    "somme[\"to_save\"] = somme.dc_all - somme.dc_100\n",
    "somme = somme.astype(int)\n",
    "somme"
   ]
  },
  {
   "cell_type": "markdown",
   "id": "fd39a814",
   "metadata": {},
   "source": [
    "# Graphes\n",
    "\n",
    "## Décès par tranche d'âge et statut vaccinal"
   ]
  },
  {
   "cell_type": "code",
   "execution_count": 120,
   "id": "2ad7c66f",
   "metadata": {
    "ExecuteTime": {
     "end_time": "2022-01-26T09:54:06.590697Z",
     "start_time": "2022-01-26T09:54:06.421329Z"
    }
   },
   "outputs": [
    {
     "data": {
      "text/plain": [
       "<matplotlib.legend.Legend at 0x7f1eb65ca650>"
      ]
     },
     "execution_count": 120,
     "metadata": {},
     "output_type": "execute_result"
    },
    {
     "data": {
      "image/png": "[encoded data removed]",
      "text/plain": [
       "<Figure size 936x720 with 1 Axes>"
      ]
     },
     "metadata": {
      "needs_background": "light"
     },
     "output_type": "display_data"
    }
   ],
   "source": [
    "somme[[\"vax\", \"non_vax\"]].plot.bar(\n",
    "    title=\"Décès par tranche d'âge et par statut vaccinal\",\n",
    "    ylabel=\"Décès depuis juin 2021 [DRESS]\",\n",
    "    xlabel=\"Tranche d'âge\")\n",
    "plt.legend([\"Vaccinés\", \"Non vaccinés\"])"
   ]
  },
  {
   "cell_type": "markdown",
   "id": "c00c60a9",
   "metadata": {
    "ExecuteTime": {
     "end_time": "2021-12-22T16:52:48.257136Z",
     "start_time": "2021-12-22T16:52:48.255000Z"
    }
   },
   "source": [
    "## Décès par tranche d'âge et statut vaccinal, normés pour 1 million d'individus"
   ]
  },
  {
   "cell_type": "code",
   "execution_count": 121,
   "id": "608ae028",
   "metadata": {
    "ExecuteTime": {
     "end_time": "2022-01-26T09:54:11.693017Z",
     "start_time": "2022-01-26T09:54:11.522425Z"
    }
   },
   "outputs": [
    {
     "data": {
      "text/plain": [
       "<matplotlib.legend.Legend at 0x7f1eb66bd7d0>"
      ]
     },
     "execution_count": 121,
     "metadata": {},
     "output_type": "execute_result"
    },
    {
     "data": {
      "image/png": "[encoded data removed]",
      "text/plain": [
       "<Figure size 936x720 with 1 Axes>"
      ]
     },
     "metadata": {
      "needs_background": "light"
     },
     "output_type": "display_data"
    }
   ],
   "source": [
    "somme[[\"dc_vax_1m\", \"dc_non_vax_1m\"]].plot.bar(\n",
    "    title=\"Décès pour 1M d'individus, par statut vaccinal et tranche d'âge\",\n",
    "    ylabel=\"Décès depuis juin 2021 [DRESS]\",\n",
    "    xlabel=\"Tranche d'âge\")\n",
    "plt.legend([\"Vaccinés\", \"Non vaccinés\"])"
   ]
  },
  {
   "cell_type": "markdown",
   "id": "1511738d",
   "metadata": {
    "ExecuteTime": {
     "end_time": "2022-01-26T09:23:58.042736Z",
     "start_time": "2022-01-26T09:23:58.035871Z"
    }
   },
   "source": [
    "## Comparaison des scenarios 0% et 100% vaccinés\n",
    "\n",
    "### Série temporelle"
   ]
  },
  {
   "cell_type": "code",
   "execution_count": 123,
   "id": "7b4f5540",
   "metadata": {
    "ExecuteTime": {
     "end_time": "2022-01-26T09:54:19.643798Z",
     "start_time": "2022-01-26T09:54:19.609838Z"
    }
   },
   "outputs": [
    {
     "data": {
      "text/html": [
       "<div>\n",
       "<style scoped>\n",
       "    .dataframe tbody tr th:only-of-type {\n",
       "        vertical-align: middle;\n",
       "    }\n",
       "\n",
       "    .dataframe tbody tr th {\n",
       "        vertical-align: top;\n",
       "    }\n",
       "\n",
       "    .dataframe thead th {\n",
       "        text-align: right;\n",
       "    }\n",
       "</style>\n",
       "<table border=\"1\" class=\"dataframe\">\n",
       "  <thead>\n",
       "    <tr style=\"text-align: right;\">\n",
       "      <th>vac_statut</th>\n",
       "      <th>non_vax</th>\n",
       "      <th>vax</th>\n",
       "      <th>eff_vax</th>\n",
       "      <th>eff_non_vax</th>\n",
       "      <th>ratio_vax</th>\n",
       "      <th>ratio_non_vax</th>\n",
       "      <th>dc_vax_1m</th>\n",
       "      <th>dc_non_vax_1m</th>\n",
       "      <th>dc_0</th>\n",
       "      <th>dc_100</th>\n",
       "      <th>dc_tot</th>\n",
       "    </tr>\n",
       "    <tr>\n",
       "      <th>date</th>\n",
       "      <th></th>\n",
       "      <th></th>\n",
       "      <th></th>\n",
       "      <th></th>\n",
       "      <th></th>\n",
       "      <th></th>\n",
       "      <th></th>\n",
       "      <th></th>\n",
       "      <th></th>\n",
       "      <th></th>\n",
       "      <th></th>\n",
       "    </tr>\n",
       "  </thead>\n",
       "  <tbody>\n",
       "    <tr>\n",
       "      <th>2021-05-31</th>\n",
       "      <td>39.000000</td>\n",
       "      <td>2.0000</td>\n",
       "      <td>1.043197e+07</td>\n",
       "      <td>5.671832e+07</td>\n",
       "      <td>6.169644e-07</td>\n",
       "      <td>0.000016</td>\n",
       "      <td>0.616964</td>\n",
       "      <td>16.233759</td>\n",
       "      <td>81.910271</td>\n",
       "      <td>4.434229</td>\n",
       "      <td>41.000000</td>\n",
       "    </tr>\n",
       "    <tr>\n",
       "      <th>2021-06-01</th>\n",
       "      <td>36.500000</td>\n",
       "      <td>2.5000</td>\n",
       "      <td>1.045950e+07</td>\n",
       "      <td>5.668995e+07</td>\n",
       "      <td>9.335971e-07</td>\n",
       "      <td>0.000015</td>\n",
       "      <td>0.933597</td>\n",
       "      <td>15.163974</td>\n",
       "      <td>76.472649</td>\n",
       "      <td>4.705096</td>\n",
       "      <td>39.000000</td>\n",
       "    </tr>\n",
       "    <tr>\n",
       "      <th>2021-06-02</th>\n",
       "      <td>36.783333</td>\n",
       "      <td>3.5000</td>\n",
       "      <td>1.054284e+07</td>\n",
       "      <td>5.660577e+07</td>\n",
       "      <td>1.198986e-06</td>\n",
       "      <td>0.000015</td>\n",
       "      <td>1.198986</td>\n",
       "      <td>14.996832</td>\n",
       "      <td>76.790733</td>\n",
       "      <td>7.036061</td>\n",
       "      <td>40.283333</td>\n",
       "    </tr>\n",
       "    <tr>\n",
       "      <th>2021-06-03</th>\n",
       "      <td>34.847500</td>\n",
       "      <td>3.6175</td>\n",
       "      <td>1.063936e+07</td>\n",
       "      <td>5.650841e+07</td>\n",
       "      <td>1.166493e-06</td>\n",
       "      <td>0.000014</td>\n",
       "      <td>1.166493</td>\n",
       "      <td>14.160673</td>\n",
       "      <td>72.840324</td>\n",
       "      <td>9.277839</td>\n",
       "      <td>38.465000</td>\n",
       "    </tr>\n",
       "    <tr>\n",
       "      <th>2021-06-04</th>\n",
       "      <td>32.686000</td>\n",
       "      <td>4.0900</td>\n",
       "      <td>1.074829e+07</td>\n",
       "      <td>5.639864e+07</td>\n",
       "      <td>1.325187e-06</td>\n",
       "      <td>0.000013</td>\n",
       "      <td>1.325187</td>\n",
       "      <td>12.867532</td>\n",
       "      <td>67.790167</td>\n",
       "      <td>9.787884</td>\n",
       "      <td>36.776000</td>\n",
       "    </tr>\n",
       "  </tbody>\n",
       "</table>\n",
       "</div>"
      ],
      "text/plain": [
       "vac_statut    non_vax     vax       eff_vax   eff_non_vax     ratio_vax  \\\n",
       "date                                                                      \n",
       "2021-05-31  39.000000  2.0000  1.043197e+07  5.671832e+07  6.169644e-07   \n",
       "2021-06-01  36.500000  2.5000  1.045950e+07  5.668995e+07  9.335971e-07   \n",
       "2021-06-02  36.783333  3.5000  1.054284e+07  5.660577e+07  1.198986e-06   \n",
       "2021-06-03  34.847500  3.6175  1.063936e+07  5.650841e+07  1.166493e-06   \n",
       "2021-06-04  32.686000  4.0900  1.074829e+07  5.639864e+07  1.325187e-06   \n",
       "\n",
       "vac_statut  ratio_non_vax  dc_vax_1m  dc_non_vax_1m       dc_0    dc_100  \\\n",
       "date                                                                       \n",
       "2021-05-31       0.000016   0.616964      16.233759  81.910271  4.434229   \n",
       "2021-06-01       0.000015   0.933597      15.163974  76.472649  4.705096   \n",
       "2021-06-02       0.000015   1.198986      14.996832  76.790733  7.036061   \n",
       "2021-06-03       0.000014   1.166493      14.160673  72.840324  9.277839   \n",
       "2021-06-04       0.000013   1.325187      12.867532  67.790167  9.787884   \n",
       "\n",
       "vac_statut     dc_tot  \n",
       "date                   \n",
       "2021-05-31  41.000000  \n",
       "2021-06-01  39.000000  \n",
       "2021-06-02  40.283333  \n",
       "2021-06-03  38.465000  \n",
       "2021-06-04  36.776000  "
      ]
     },
     "execution_count": 123,
     "metadata": {},
     "output_type": "execute_result"
    }
   ],
   "source": [
    "# Somme des tranches d'age\n",
    "serie = dc.groupby(level=1).sum().rolling(\"7D\").mean()\n",
    "serie[\"dc_tot\"] = serie.vax + serie.non_vax\n",
    "serie.head()"
   ]
  },
  {
   "cell_type": "code",
   "execution_count": 143,
   "id": "b12db49d",
   "metadata": {
    "ExecuteTime": {
     "end_time": "2022-01-26T10:09:13.465722Z",
     "start_time": "2022-01-26T10:09:13.264678Z"
    }
   },
   "outputs": [
    {
     "data": {
      "text/plain": [
       "Text(0.5, 1.0, 'Comparaison des scénarios : réel / sans vaccin / 100% vaccin')"
      ]
     },
     "execution_count": 143,
     "metadata": {},
     "output_type": "execute_result"
    },
    {
     "data": {
      "image/png": "[encoded data removed]",
      "text/plain": [
       "<Figure size 936x720 with 1 Axes>"
      ]
     },
     "metadata": {
      "needs_background": "light"
     },
     "output_type": "display_data"
    }
   ],
   "source": [
    "plt.ylabel(\"Décès quotidiens, moyenne glissante 7J\")\n",
    "\n",
    "plt.plot(serie.index, serie.dc_tot, label=\"Décès réels\", color=\"blue\")\n",
    "\n",
    "plt.plot(serie.index, serie.dc_0, label=\"Décès si 0% vaccinés\", color=\"orange\")\n",
    "plt.fill_between(\n",
    "    serie.index, \n",
    "    serie.dc_tot, \n",
    "    serie.dc_0, \n",
    "    hatch=\"//\", color=\"white\",edgecolor=\"orange\",\n",
    "    label=\"Décès évités : \" + str(somme.sum()[\"saved\"]))\n",
    "\n",
    "plt.plot(serie.index, serie.dc_100, label=\"Décès si 100% vaccinés\", color=\"green\")\n",
    "plt.fill_between(\n",
    "    serie.index, \n",
    "    serie.dc_tot, \n",
    "    serie.dc_100, \n",
    "    hatch='\\\\\\\\', color=\"white\", edgecolor=\"blue\",\n",
    "    label=\"Décès évitables : \" + str(somme.sum()[\"to_save\"]))\n",
    "\n",
    "plt.legend()\n",
    "plt.title(\"Comparaison des scénarios : réel / sans vaccin / 100% vaccin\")"
   ]
  },
  {
   "cell_type": "markdown",
   "id": "e2eaac9a",
   "metadata": {
    "ExecuteTime": {
     "end_time": "2022-01-26T09:57:38.306523Z",
     "start_time": "2022-01-26T09:57:38.298871Z"
    }
   },
   "source": [
    "### Bilan par tranche d'âge"
   ]
  },
  {
   "cell_type": "code",
   "execution_count": 130,
   "id": "56489804",
   "metadata": {
    "ExecuteTime": {
     "end_time": "2022-01-26T09:57:44.666287Z",
     "start_time": "2022-01-26T09:57:44.474872Z"
    }
   },
   "outputs": [
    {
     "data": {
      "text/plain": [
       "<matplotlib.legend.Legend at 0x7f1eb5ad3dd0>"
      ]
     },
     "execution_count": 130,
     "metadata": {},
     "output_type": "execute_result"
    },
    {
     "data": {
      "image/png": "[encoded data removed]",
      "text/plain": [
       "<Figure size 936x720 with 1 Axes>"
      ]
     },
     "metadata": {
      "needs_background": "light"
     },
     "output_type": "display_data"
    }
   ],
   "source": [
    "somme[[\"dc_100\", \"dc_all\", \"dc_0\"]].plot.bar(\n",
    "    title=\"Comparaison des scénarios : réel / sans vaccin / 100% vaccin\",\n",
    "    ylabel=\"Décès depuis juin 2021 [DRESS]\",\n",
    "    xlabel=\"Tranche d'âge\",\n",
    "    color=[\"green\", \"blue\", \"orange\"])\n",
    "plt.legend([\"Décès si 100% vaccinés\", \"Décès réels\" , \"Décès si 0% vaccinés\"])"
   ]
  },
  {
   "cell_type": "markdown",
   "id": "772b530b",
   "metadata": {
    "ExecuteTime": {
     "end_time": "2021-12-22T16:57:59.854153Z",
     "start_time": "2021-12-22T16:57:59.851179Z"
    }
   },
   "source": [
    "# Tableau récapitulatif"
   ]
  },
  {
   "cell_type": "code",
   "execution_count": 144,
   "id": "d7757644",
   "metadata": {
    "ExecuteTime": {
     "end_time": "2022-01-26T10:16:43.057671Z",
     "start_time": "2022-01-26T10:16:43.039377Z"
    }
   },
   "outputs": [
    {
     "data": {
      "text/html": [
       "<div>\n",
       "<style scoped>\n",
       "    .dataframe tbody tr th:only-of-type {\n",
       "        vertical-align: middle;\n",
       "    }\n",
       "\n",
       "    .dataframe tbody tr th {\n",
       "        vertical-align: top;\n",
       "    }\n",
       "\n",
       "    .dataframe thead th {\n",
       "        text-align: right;\n",
       "    }\n",
       "</style>\n",
       "<table border=\"1\" class=\"dataframe\">\n",
       "  <thead>\n",
       "    <tr style=\"text-align: right;\">\n",
       "      <th>vac_statut</th>\n",
       "      <th>décès non-vax</th>\n",
       "      <th>décès vax</th>\n",
       "      <th>décès si 0% vacciné</th>\n",
       "      <th>décès si 100% vaccinés</th>\n",
       "      <th>décès évités</th>\n",
       "      <th>décès évitables</th>\n",
       "      <th>Efficacité du vaccin (%)</th>\n",
       "    </tr>\n",
       "    <tr>\n",
       "      <th>age</th>\n",
       "      <th></th>\n",
       "      <th></th>\n",
       "      <th></th>\n",
       "      <th></th>\n",
       "      <th></th>\n",
       "      <th></th>\n",
       "      <th></th>\n",
       "    </tr>\n",
       "  </thead>\n",
       "  <tbody>\n",
       "    <tr>\n",
       "      <th>[0,19]</th>\n",
       "      <td>18</td>\n",
       "      <td>4</td>\n",
       "      <td>24</td>\n",
       "      <td>12</td>\n",
       "      <td>2</td>\n",
       "      <td>9</td>\n",
       "      <td>66</td>\n",
       "    </tr>\n",
       "    <tr>\n",
       "      <th>[20,39]</th>\n",
       "      <td>125</td>\n",
       "      <td>38</td>\n",
       "      <td>559</td>\n",
       "      <td>52</td>\n",
       "      <td>395</td>\n",
       "      <td>111</td>\n",
       "      <td>91</td>\n",
       "    </tr>\n",
       "    <tr>\n",
       "      <th>[40,59]</th>\n",
       "      <td>796</td>\n",
       "      <td>315</td>\n",
       "      <td>4513</td>\n",
       "      <td>411</td>\n",
       "      <td>3401</td>\n",
       "      <td>699</td>\n",
       "      <td>91</td>\n",
       "    </tr>\n",
       "    <tr>\n",
       "      <th>[60,79]</th>\n",
       "      <td>3324</td>\n",
       "      <td>2365</td>\n",
       "      <td>23884</td>\n",
       "      <td>2737</td>\n",
       "      <td>18195</td>\n",
       "      <td>2951</td>\n",
       "      <td>89</td>\n",
       "    </tr>\n",
       "    <tr>\n",
       "      <th>[80;+]</th>\n",
       "      <td>3971</td>\n",
       "      <td>3306</td>\n",
       "      <td>24066</td>\n",
       "      <td>3947</td>\n",
       "      <td>16788</td>\n",
       "      <td>3330</td>\n",
       "      <td>85</td>\n",
       "    </tr>\n",
       "    <tr>\n",
       "      <th>Total</th>\n",
       "      <td>8234</td>\n",
       "      <td>6028</td>\n",
       "      <td>53046</td>\n",
       "      <td>7159</td>\n",
       "      <td>38781</td>\n",
       "      <td>7100</td>\n",
       "      <td>0</td>\n",
       "    </tr>\n",
       "  </tbody>\n",
       "</table>\n",
       "</div>"
      ],
      "text/plain": [
       "vac_statut  décès non-vax  décès vax  décès si 0% vacciné  \\\n",
       "age                                                         \n",
       "[0,19]                 18          4                   24   \n",
       "[20,39]               125         38                  559   \n",
       "[40,59]               796        315                 4513   \n",
       "[60,79]              3324       2365                23884   \n",
       "[80;+]               3971       3306                24066   \n",
       "Total                8234       6028                53046   \n",
       "\n",
       "vac_statut  décès si 100% vaccinés  décès évités  décès évitables  \\\n",
       "age                                                                 \n",
       "[0,19]                          12             2                9   \n",
       "[20,39]                         52           395              111   \n",
       "[40,59]                        411          3401              699   \n",
       "[60,79]                       2737         18195             2951   \n",
       "[80;+]                        3947         16788             3330   \n",
       "Total                         7159         38781             7100   \n",
       "\n",
       "vac_statut  Efficacité du vaccin (%)  \n",
       "age                                   \n",
       "[0,19]                            66  \n",
       "[20,39]                           91  \n",
       "[40,59]                           91  \n",
       "[60,79]                           89  \n",
       "[80;+]                            85  \n",
       "Total                              0  "
      ]
     },
     "execution_count": 144,
     "metadata": {},
     "output_type": "execute_result"
    }
   ],
   "source": [
    "summary = somme.append(somme.sum().rename('Total'))\n",
    "summary.at[\"Total\", \"eff_vax\"] = 0\n",
    "summary[[\"non_vax\", \"vax\", \"dc_0\", \"dc_100\", \"saved\", \"to_save\", \"eff_vax\"]].rename(columns={\n",
    "    \"non_vax\" : \"décès non-vax\", \n",
    "    \"vax\" : \"décès vax\",\n",
    "    \"eff_vax\": \"Efficacité du vaccin (%)\",\n",
    "    \"dc_0\" : \"décès si 0% vacciné\", \n",
    "    \"dc_100\" : \"décès si 100% vaccinés\",\n",
    "    \"saved\" : \"décès évités\", \n",
    "    \"to_save\" : \"décès évitables\", \n",
    "})"
   ]
  },
  {
   "cell_type": "code",
   "execution_count": null,
   "id": "314e7e3e",
   "metadata": {},
   "outputs": [],
   "source": []
  }
 ],
 "metadata": {
  "kernelspec": {
   "display_name": "Python 3 (ipykernel)",
   "language": "python",
   "name": "python3"
  },
  "language_info": {
   "codemirror_mode": {
    "name": "ipython",
    "version": 3
   },
   "file_extension": ".py",
   "mimetype": "text/x-python",
   "name": "python",
   "nbconvert_exporter": "python",
   "pygments_lexer": "ipython3",
   "version": "3.7.11"
  },
  "toc": {
   "base_numbering": 1,
   "nav_menu": {},
   "number_sections": true,
   "sideBar": true,
   "skip_h1_title": false,
   "title_cell": "Table of Contents",
   "title_sidebar": "Contents",
   "toc_cell": false,
   "toc_position": {},
   "toc_section_display": true,
   "toc_window_display": false
  },
  "varInspector": {
   "cols": {
    "lenName": 16,
    "lenType": 16,
    "lenVar": 40
   },
   "kernels_config": {
    "python": {
     "delete_cmd_postfix": "",
     "delete_cmd_prefix": "del ",
     "library": "var_list.py",
     "varRefreshCmd": "print(var_dic_list())"
    },
    "r": {
     "delete_cmd_postfix": ") ",
     "delete_cmd_prefix": "rm(",
     "library": "var_list.r",
     "varRefreshCmd": "cat(var_dic_list()) "
    }
   },
   "types_to_exclude": [
    "module",
    "function",
    "builtin_function_or_method",
    "instance",
    "_Feature"
   ],
   "window_display": false
  }
 },
 "nbformat": 4,
 "nbformat_minor": 5
}
