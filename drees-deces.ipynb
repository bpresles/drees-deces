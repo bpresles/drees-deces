{
 "cells": [
  {
   "cell_type": "markdown",
   "id": "877e8fc5",
   "metadata": {
    "tags": []
   },
   "source": [
    "# Analyse des décès covid par statut vaccinal \n",
    "\n",
    "\n",
    "## Résumé\n",
    "\n",
    "Cette feuille de calcul [Jupyter](https://jupyter.org/) analyse les données de décès de la DREES, par statut vaccinal et par âge, et tente d'évaluer les décès évités par la vaccination, et ceux qui auraient pu l'être avec une couverture vaccinale complète.\n",
    "\n",
    "\n",
    "## Données\n",
    "\n",
    "Les données proviennent du site de la DREES. Elle comportent les décès depuis juin 2021, par statut vaccinal, dat et tranche d'âge\n",
    "\n",
    "https://data.drees.solidarites-sante.gouv.fr/explore/dataset/covid-19-resultats-par-age-issus-des-appariements-entre-si-vic-si-dep-et-vac-si/information/\n",
    "\n",
    "## Méthodologie \n",
    "\n",
    "Pour chaque tranche d'âge, chaque statut vaccinal et chaque date, la DREES fournit les effectifs du groupe correspondant (age et statut vaccinal), à date. Ceci permet de calculer une mortalité journalière pour chaque sous groupe.\n",
    "\n",
    "Il est alors possible de simuler des scénarios de couverture vaccinale (0% et 100%) appliquant la mortalité d'un sous groupe à l'autre, pour une même tranche d'âge.\n",
    "\n",
    "## Limitations\n",
    "\n",
    "Ces calculs reposent sur l'hypothèse que la différence de mortalité des groupes vaccinés et non-vaccinés dépend essentiellement de leur statut vaccinal. Le facteur de confusion \"âge\" est pris en compte par la strafification par âge déjà appliquée par la DREES. \n",
    "\n",
    "D'autres facteurs de confusion peuvent néamoins subsister:\n",
    "\n",
    "* **Comorbidités** : Chez les plus jeunes surtout (0-19 ans), les individus présentant des comorbidités ont été vaccinés en priorité. L'ignorance de cette corrélation tend à sous estimer l'impact positif de la vaccination.\n",
    "\n",
    "* **Classes sociales** : Les classes populaires sont à la fois moins plus vulnérables et moins vaccinées que le reste de la population. [1](https://www.cdc.gov/mmwr/volumes/70/wr/mm7022e1.htm) [2](https://www.huffingtonpost.fr/entry/vaccination-la-richesse-ou-les-diplomes-insuffisants-pour-expliquer-le-choix-de-ceux-qui-decident-de-ne-pas-le-faire_fr_61166e34e4b07c1403142492). L'ignorance de cette corrélation tend à surestimer l'impact positif de la vaccination.\n",
    "\n",
    "* **Transmission** : Cette étude ne considère pas l'effet de la vaccination sur la transmission ([évalué à 40% environ](https://www.france24.com/en/live-news/20211124-vaccines-reduce-covid-transmission-by-40-who)). L'ignorance de cet tend à sous estimer l'impact positif de la vaccination.\n",
    "\n",
    "# Code \n",
    "\n",
    "Le code est disponible sur Github :\n",
    "https://github.com/bpresles/drees-deces\n",
    "\n",
    "\n",
    "# Auteur\n",
    "\n",
    "Raphaël Jolivet : https://mamot.fr/@RaphJ\n",
    "\n",
    "Bertrand Presles : bertrand@presles.fr\n",
    "\n",
    "\n",
    "# Licence\n",
    "\n",
    "Cette feuille de calcul est distribuée sous [licence CC-By](https://creativecommons.org/licenses/by/4.0/)\n",
    "\n"
   ]
  },
  {
   "cell_type": "markdown",
   "id": "d98103b2",
   "metadata": {
    "ExecuteTime": {
     "end_time": "2021-12-22T16:42:16.213296Z",
     "start_time": "2021-12-22T16:42:16.209773Z"
    },
    "tags": []
   },
   "source": [
    "# Initialisation"
   ]
  },
  {
   "cell_type": "code",
   "execution_count": 1,
   "id": "8e934514",
   "metadata": {
    "ExecuteTime": {
     "end_time": "2022-01-26T09:54:02.370923Z",
     "start_time": "2022-01-26T09:54:02.359586Z"
    },
    "jupyter": {
     "source_hidden": true
    },
    "tags": []
   },
   "outputs": [],
   "source": [
    "# Import de librairies\n",
    "import pandas as pd\n",
    "import matplotlib.pyplot as plt\n",
    "\n",
    "# Taille par défaut des graphes\n",
    "plt.rc('figure', figsize=(13,10))\n",
    "plt.rcParams.update({\n",
    "    \"figure.facecolor\":  (1.0, 1.0, 1.0, 0.0), \n",
    "    \"savefig.facecolor\": (1.0, 1.0, 1.0, 0.0), \n",
    "})\n",
    "plt.rcParams[\"font.size\"]=12"
   ]
  },
  {
   "cell_type": "markdown",
   "id": "c06c6cbd",
   "metadata": {
    "ExecuteTime": {
     "end_time": "2021-12-22T16:42:01.538268Z",
     "start_time": "2021-12-22T16:42:01.534831Z"
    },
    "tags": []
   },
   "source": [
    "# Chargement des données"
   ]
  },
  {
   "cell_type": "code",
   "execution_count": 2,
   "id": "5a83ad24",
   "metadata": {
    "ExecuteTime": {
     "end_time": "2022-01-26T09:54:03.573976Z",
     "start_time": "2022-01-26T09:54:03.188594Z"
    },
    "jupyter": {
     "source_hidden": true
    },
    "tags": []
   },
   "outputs": [
    {
     "data": {
      "text/html": [
       "<div>\n",
       "<style scoped>\n",
       "    .dataframe tbody tr th:only-of-type {\n",
       "        vertical-align: middle;\n",
       "    }\n",
       "\n",
       "    .dataframe tbody tr th {\n",
       "        vertical-align: top;\n",
       "    }\n",
       "\n",
       "    .dataframe thead th {\n",
       "        text-align: right;\n",
       "    }\n",
       "</style>\n",
       "<table border=\"1\" class=\"dataframe\">\n",
       "  <thead>\n",
       "    <tr style=\"text-align: right;\">\n",
       "      <th></th>\n",
       "      <th>date</th>\n",
       "      <th>vac_statut</th>\n",
       "      <th>age</th>\n",
       "      <th>nb_PCR</th>\n",
       "      <th>nb_PCR_sympt</th>\n",
       "      <th>nb_PCR+_sympt</th>\n",
       "      <th>nb_PCR+</th>\n",
       "      <th>HC</th>\n",
       "      <th>HC_PCR+</th>\n",
       "      <th>SC</th>\n",
       "      <th>SC_PCR+</th>\n",
       "      <th>DC</th>\n",
       "      <th>DC_PCR+</th>\n",
       "      <th>effectif</th>\n",
       "      <th>PCR+_pourcent_omicron</th>\n",
       "      <th>PCR+_sympt_pourcent_omicron</th>\n",
       "      <th>HC_pourcent_omicron</th>\n",
       "      <th>SC_pourcent_omicron</th>\n",
       "    </tr>\n",
       "  </thead>\n",
       "  <tbody>\n",
       "    <tr>\n",
       "      <th>9062</th>\n",
       "      <td>2022-01-09</td>\n",
       "      <td>Complet de moins de 3 mois - sans rappel</td>\n",
       "      <td>[80;+]</td>\n",
       "      <td>283.09</td>\n",
       "      <td>43.66</td>\n",
       "      <td>10.62</td>\n",
       "      <td>32.72</td>\n",
       "      <td>14.91</td>\n",
       "      <td>12.29</td>\n",
       "      <td>0.56</td>\n",
       "      <td>0.50</td>\n",
       "      <td>1.03</td>\n",
       "      <td>1.00</td>\n",
       "      <td>100068.30</td>\n",
       "      <td>96.84</td>\n",
       "      <td>100.00</td>\n",
       "      <td>100.00</td>\n",
       "      <td>0.0</td>\n",
       "    </tr>\n",
       "    <tr>\n",
       "      <th>9063</th>\n",
       "      <td>2022-01-09</td>\n",
       "      <td>Complet entre 3 mois et 6 mois - sans rappel</td>\n",
       "      <td>[80;+]</td>\n",
       "      <td>653.77</td>\n",
       "      <td>96.07</td>\n",
       "      <td>31.40</td>\n",
       "      <td>89.67</td>\n",
       "      <td>40.23</td>\n",
       "      <td>31.07</td>\n",
       "      <td>0.56</td>\n",
       "      <td>0.47</td>\n",
       "      <td>11.57</td>\n",
       "      <td>10.35</td>\n",
       "      <td>261650.10</td>\n",
       "      <td>88.46</td>\n",
       "      <td>87.11</td>\n",
       "      <td>100.00</td>\n",
       "      <td>0.0</td>\n",
       "    </tr>\n",
       "    <tr>\n",
       "      <th>9064</th>\n",
       "      <td>2022-01-09</td>\n",
       "      <td>Complet de 6 mois et plus - sans rappel</td>\n",
       "      <td>[80;+]</td>\n",
       "      <td>632.44</td>\n",
       "      <td>78.94</td>\n",
       "      <td>21.72</td>\n",
       "      <td>101.45</td>\n",
       "      <td>48.49</td>\n",
       "      <td>39.67</td>\n",
       "      <td>3.26</td>\n",
       "      <td>3.14</td>\n",
       "      <td>20.18</td>\n",
       "      <td>16.97</td>\n",
       "      <td>289533.56</td>\n",
       "      <td>81.77</td>\n",
       "      <td>55.91</td>\n",
       "      <td>82.24</td>\n",
       "      <td>0.0</td>\n",
       "    </tr>\n",
       "    <tr>\n",
       "      <th>9065</th>\n",
       "      <td>2022-01-09</td>\n",
       "      <td>Complet de moins de 3 mois - avec rappel</td>\n",
       "      <td>[80;+]</td>\n",
       "      <td>18.19</td>\n",
       "      <td>2.42</td>\n",
       "      <td>0.05</td>\n",
       "      <td>1.16</td>\n",
       "      <td>0.22</td>\n",
       "      <td>0.17</td>\n",
       "      <td>0.00</td>\n",
       "      <td>0.00</td>\n",
       "      <td>0.00</td>\n",
       "      <td>0.00</td>\n",
       "      <td>12705.21</td>\n",
       "      <td>0.00</td>\n",
       "      <td>0.00</td>\n",
       "      <td>0.00</td>\n",
       "      <td>0.0</td>\n",
       "    </tr>\n",
       "    <tr>\n",
       "      <th>9066</th>\n",
       "      <td>2022-01-09</td>\n",
       "      <td>Complet entre 3 mois et 6 mois - avec rappel</td>\n",
       "      <td>[80;+]</td>\n",
       "      <td>188.02</td>\n",
       "      <td>23.49</td>\n",
       "      <td>4.69</td>\n",
       "      <td>16.17</td>\n",
       "      <td>4.16</td>\n",
       "      <td>3.43</td>\n",
       "      <td>0.01</td>\n",
       "      <td>0.00</td>\n",
       "      <td>0.00</td>\n",
       "      <td>0.00</td>\n",
       "      <td>91811.55</td>\n",
       "      <td>100.00</td>\n",
       "      <td>100.00</td>\n",
       "      <td>100.00</td>\n",
       "      <td>0.0</td>\n",
       "    </tr>\n",
       "  </tbody>\n",
       "</table>\n",
       "</div>"
      ],
      "text/plain": [
       "           date                                    vac_statut     age  nb_PCR  \\\n",
       "9062 2022-01-09      Complet de moins de 3 mois - sans rappel  [80;+]  283.09   \n",
       "9063 2022-01-09  Complet entre 3 mois et 6 mois - sans rappel  [80;+]  653.77   \n",
       "9064 2022-01-09       Complet de 6 mois et plus - sans rappel  [80;+]  632.44   \n",
       "9065 2022-01-09      Complet de moins de 3 mois - avec rappel  [80;+]   18.19   \n",
       "9066 2022-01-09  Complet entre 3 mois et 6 mois - avec rappel  [80;+]  188.02   \n",
       "\n",
       "      nb_PCR_sympt  nb_PCR+_sympt  nb_PCR+     HC  HC_PCR+    SC  SC_PCR+  \\\n",
       "9062         43.66          10.62    32.72  14.91    12.29  0.56     0.50   \n",
       "9063         96.07          31.40    89.67  40.23    31.07  0.56     0.47   \n",
       "9064         78.94          21.72   101.45  48.49    39.67  3.26     3.14   \n",
       "9065          2.42           0.05     1.16   0.22     0.17  0.00     0.00   \n",
       "9066         23.49           4.69    16.17   4.16     3.43  0.01     0.00   \n",
       "\n",
       "         DC  DC_PCR+   effectif  PCR+_pourcent_omicron  \\\n",
       "9062   1.03     1.00  100068.30                  96.84   \n",
       "9063  11.57    10.35  261650.10                  88.46   \n",
       "9064  20.18    16.97  289533.56                  81.77   \n",
       "9065   0.00     0.00   12705.21                   0.00   \n",
       "9066   0.00     0.00   91811.55                 100.00   \n",
       "\n",
       "      PCR+_sympt_pourcent_omicron  HC_pourcent_omicron  SC_pourcent_omicron  \n",
       "9062                       100.00               100.00                  0.0  \n",
       "9063                        87.11               100.00                  0.0  \n",
       "9064                        55.91                82.24                  0.0  \n",
       "9065                         0.00                 0.00                  0.0  \n",
       "9066                       100.00               100.00                  0.0  "
      ]
     },
     "execution_count": 2,
     "metadata": {},
     "output_type": "execute_result"
    }
   ],
   "source": [
    "data = pd.read_csv(\"drees-covid-age.csv\", sep=\";\", parse_dates=[\"date\"]) \\\n",
    "    .fillna(0)\n",
    "data.tail()"
   ]
  },
  {
   "cell_type": "markdown",
   "id": "4fee5824-4a03-4151-9abb-ba9e1caf1dcc",
   "metadata": {
    "tags": []
   },
   "source": [
    "# Pivot par statut vaccinal et aggrégation \n",
    "\n",
    "On pivote les données pour avoir une colonne par statut vaccinal.\n",
    "Les statuts vaccinaux sont ensuite groupés :\n",
    "* Les 6 sous groupes \"complet\" => \"vax\"\n",
    "* Les non vaccinés et vaccinés une dose seulement => \"non vax\""
   ]
  },
  {
   "cell_type": "code",
   "execution_count": 3,
   "id": "c6b865ef",
   "metadata": {
    "ExecuteTime": {
     "end_time": "2022-01-26T09:54:03.697514Z",
     "start_time": "2022-01-26T09:54:03.683953Z"
    },
    "jupyter": {
     "source_hidden": true
    },
    "tags": []
   },
   "outputs": [],
   "source": [
    "# Pivot par statut vaccinal, pour les décès et les effectifs\n",
    "dc = data.pivot(index=[\"age\", 'date'], columns='vac_statut', values=\"DC\").fillna(0)\n",
    "eff = data.pivot(index=[\"age\", 'date'], columns='vac_statut', values=\"effectif\").fillna(0)"
   ]
  },
  {
   "cell_type": "code",
   "execution_count": 4,
   "id": "02799a46",
   "metadata": {
    "ExecuteTime": {
     "end_time": "2022-01-26T09:54:03.807787Z",
     "start_time": "2022-01-26T09:54:03.803179Z"
    },
    "jupyter": {
     "source_hidden": true
    },
    "tags": []
   },
   "outputs": [],
   "source": [
    "def vax_nvax(df) :\n",
    "    \"\"\"Aggrège les vax et non-vax\"\"\"\n",
    "\n",
    "    # Liste des 6 colonnes Complet et Primo dose efficace...\n",
    "    cols_complet = [col for col in df.columns if 'Complet' in col]\n",
    "\n",
    "    # On crée une colonne \"vax\" somme des 6 complet et primo dose efficace\n",
    "    df[\"vax\"] = sum(df[col] for col in cols_complet)\n",
    "    \n",
    "    # Les non vaccinés sont ceux n'ayant reçu aucune dose ou 1 dose récente (avant qu'elle soit efficace)\n",
    "    df[\"non_vax\"] = df[\"Non-vaccinés\"] + df[\"Primo dose récente\"] + df[\"Primo dose efficace\"]\n",
    "    \n",
    "    return df[[\"non_vax\", \"vax\"]]"
   ]
  },
  {
   "cell_type": "code",
   "execution_count": 5,
   "id": "91dbade5",
   "metadata": {
    "ExecuteTime": {
     "end_time": "2022-01-26T09:54:03.924963Z",
     "start_time": "2022-01-26T09:54:03.918417Z"
    },
    "jupyter": {
     "source_hidden": true
    },
    "tags": []
   },
   "outputs": [],
   "source": [
    "dc = vax_nvax(dc)"
   ]
  },
  {
   "cell_type": "code",
   "execution_count": 6,
   "id": "81b7020d",
   "metadata": {
    "ExecuteTime": {
     "end_time": "2022-01-26T09:54:04.044486Z",
     "start_time": "2022-01-26T09:54:04.038479Z"
    },
    "jupyter": {
     "source_hidden": true
    },
    "tags": []
   },
   "outputs": [],
   "source": [
    "eff = vax_nvax(eff)"
   ]
  },
  {
   "cell_type": "markdown",
   "id": "702f3d03",
   "metadata": {
    "tags": []
   },
   "source": [
    "# Ratios  & scénarios\n",
    "\n",
    "On aggrège les tableaux de décès et d'effectifs et on calcule les ratios :\n",
    " * **ratio_vax** = dc_vax / effectif_vax\n",
    " * **ratio_non_vax** = dc_non_vax / effectif_non_vax\n",
    " * **dc_vax_1m** = ratio_vax * 1000000\n",
    " * **dc_non_vax_1m** = ratio_non_vax * 1000000\n",
    " * **dc_0** (hypothèse 0% vax) = dc_non_vax + ratio_non_vax * effectif_vax\n",
    " * **dc_100** (hypothèse 100% vax) = dc_vax + ratio_vax * effectif_non_vax\n",
    " * **dc_evites** = dc_0 - (dc_vax + dc_non_vax)\n",
    " * **dc_evitables** = (dc_vax + dc_non_vax) - dc_100"
   ]
  },
  {
   "cell_type": "code",
   "execution_count": 7,
   "id": "b4ac07f0",
   "metadata": {
    "ExecuteTime": {
     "end_time": "2022-01-26T09:54:04.925357Z",
     "start_time": "2022-01-26T09:54:04.912211Z"
    },
    "jupyter": {
     "source_hidden": true
    },
    "tags": []
   },
   "outputs": [],
   "source": [
    "# Aggregate two dataframes\n",
    "dc[\"eff_vax\"] = eff[\"vax\"]\n",
    "dc[\"eff_non_vax\"] = eff[\"non_vax\"]"
   ]
  },
  {
   "cell_type": "code",
   "execution_count": 8,
   "id": "d0da356f",
   "metadata": {
    "ExecuteTime": {
     "end_time": "2022-01-26T09:54:05.077536Z",
     "start_time": "2022-01-26T09:54:05.066626Z"
    },
    "jupyter": {
     "source_hidden": true
    },
    "tags": []
   },
   "outputs": [],
   "source": [
    "# Ratio DC / effectif for each group\n",
    "dc[\"ratio_vax\"] = (dc[\"vax\"] / eff[\"vax\"])\n",
    "dc[\"ratio_non_vax\"] = (dc[\"non_vax\"] / eff[\"non_vax\"])\n",
    "\n",
    "# DC for 1 million of each group\n",
    "dc[\"dc_vax_1m\"] = dc[\"ratio_vax\"] * 1000000\n",
    "dc[\"dc_non_vax_1m\"] = dc[\"ratio_non_vax\"] * 1000000\n",
    "\n",
    "# If noone was vaccinated : \n",
    "# assume same death rate of vaccinated group\n",
    "dc[\"dc_0\"] = dc[\"non_vax\"]  + dc[\"ratio_non_vax\"] * eff[\"vax\"]\n",
    "\n",
    "# If everyone was vaccinated\n",
    "# assume same death rate for unvaccinated group\n",
    "dc[\"dc_100\"] = dc[\"vax\"] + dc[\"ratio_vax\"] * eff[\"non_vax\"]"
   ]
  },
  {
   "cell_type": "code",
   "execution_count": 9,
   "id": "d0ee8ac0",
   "metadata": {
    "ExecuteTime": {
     "end_time": "2022-01-26T09:54:05.281781Z",
     "start_time": "2022-01-26T09:54:05.263064Z"
    },
    "jupyter": {
     "source_hidden": true
    },
    "tags": []
   },
   "outputs": [
    {
     "data": {
      "text/html": [
       "<div>\n",
       "<style scoped>\n",
       "    .dataframe tbody tr th:only-of-type {\n",
       "        vertical-align: middle;\n",
       "    }\n",
       "\n",
       "    .dataframe tbody tr th {\n",
       "        vertical-align: top;\n",
       "    }\n",
       "\n",
       "    .dataframe thead th {\n",
       "        text-align: right;\n",
       "    }\n",
       "</style>\n",
       "<table border=\"1\" class=\"dataframe\">\n",
       "  <thead>\n",
       "    <tr style=\"text-align: right;\">\n",
       "      <th>vac_statut</th>\n",
       "      <th>Décès chez les non-vaccinés</th>\n",
       "      <th>Décès chez les vaccinés</th>\n",
       "      <th>Décès si 0% de la population est vaccinée</th>\n",
       "      <th>Décès si 100% de la population est vaccinée</th>\n",
       "      <th>Décès chez les vaccinés pour 1M d'individus</th>\n",
       "      <th>Décès chez les non vaccinés pour 1M d'individus</th>\n",
       "      <th>Efficacité du vaccin (%)</th>\n",
       "      <th>Décès au total</th>\n",
       "      <th>Décès évités</th>\n",
       "      <th>Décès évitables</th>\n",
       "    </tr>\n",
       "    <tr>\n",
       "      <th>age</th>\n",
       "      <th></th>\n",
       "      <th></th>\n",
       "      <th></th>\n",
       "      <th></th>\n",
       "      <th></th>\n",
       "      <th></th>\n",
       "      <th></th>\n",
       "      <th></th>\n",
       "      <th></th>\n",
       "      <th></th>\n",
       "    </tr>\n",
       "  </thead>\n",
       "  <tbody>\n",
       "    <tr>\n",
       "      <th>[0,19]</th>\n",
       "      <td>18</td>\n",
       "      <td>4</td>\n",
       "      <td>24</td>\n",
       "      <td>12</td>\n",
       "      <td>0</td>\n",
       "      <td>1</td>\n",
       "      <td>66</td>\n",
       "      <td>22</td>\n",
       "      <td>2</td>\n",
       "      <td>9</td>\n",
       "    </tr>\n",
       "    <tr>\n",
       "      <th>[20,39]</th>\n",
       "      <td>125</td>\n",
       "      <td>38</td>\n",
       "      <td>559</td>\n",
       "      <td>52</td>\n",
       "      <td>3</td>\n",
       "      <td>35</td>\n",
       "      <td>91</td>\n",
       "      <td>163</td>\n",
       "      <td>395</td>\n",
       "      <td>111</td>\n",
       "    </tr>\n",
       "    <tr>\n",
       "      <th>[40,59]</th>\n",
       "      <td>796</td>\n",
       "      <td>315</td>\n",
       "      <td>4513</td>\n",
       "      <td>411</td>\n",
       "      <td>23</td>\n",
       "      <td>260</td>\n",
       "      <td>91</td>\n",
       "      <td>1111</td>\n",
       "      <td>3401</td>\n",
       "      <td>699</td>\n",
       "    </tr>\n",
       "    <tr>\n",
       "      <th>[60,79]</th>\n",
       "      <td>3324</td>\n",
       "      <td>2365</td>\n",
       "      <td>23884</td>\n",
       "      <td>2737</td>\n",
       "      <td>198</td>\n",
       "      <td>1730</td>\n",
       "      <td>89</td>\n",
       "      <td>5689</td>\n",
       "      <td>18195</td>\n",
       "      <td>2951</td>\n",
       "    </tr>\n",
       "    <tr>\n",
       "      <th>[80;+]</th>\n",
       "      <td>3971</td>\n",
       "      <td>3306</td>\n",
       "      <td>24066</td>\n",
       "      <td>3947</td>\n",
       "      <td>1031</td>\n",
       "      <td>6285</td>\n",
       "      <td>85</td>\n",
       "      <td>7277</td>\n",
       "      <td>16788</td>\n",
       "      <td>3330</td>\n",
       "    </tr>\n",
       "  </tbody>\n",
       "</table>\n",
       "</div>"
      ],
      "text/plain": [
       "vac_statut  Décès chez les non-vaccinés  Décès chez les vaccinés  \\\n",
       "age                                                                \n",
       "[0,19]                               18                        4   \n",
       "[20,39]                             125                       38   \n",
       "[40,59]                             796                      315   \n",
       "[60,79]                            3324                     2365   \n",
       "[80;+]                             3971                     3306   \n",
       "\n",
       "vac_statut  Décès si 0% de la population est vaccinée  \\\n",
       "age                                                     \n",
       "[0,19]                                             24   \n",
       "[20,39]                                           559   \n",
       "[40,59]                                          4513   \n",
       "[60,79]                                         23884   \n",
       "[80;+]                                          24066   \n",
       "\n",
       "vac_statut  Décès si 100% de la population est vaccinée  \\\n",
       "age                                                       \n",
       "[0,19]                                               12   \n",
       "[20,39]                                              52   \n",
       "[40,59]                                             411   \n",
       "[60,79]                                            2737   \n",
       "[80;+]                                             3947   \n",
       "\n",
       "vac_statut  Décès chez les vaccinés pour 1M d'individus  \\\n",
       "age                                                       \n",
       "[0,19]                                                0   \n",
       "[20,39]                                               3   \n",
       "[40,59]                                              23   \n",
       "[60,79]                                             198   \n",
       "[80;+]                                             1031   \n",
       "\n",
       "vac_statut  Décès chez les non vaccinés pour 1M d'individus  \\\n",
       "age                                                           \n",
       "[0,19]                                                    1   \n",
       "[20,39]                                                  35   \n",
       "[40,59]                                                 260   \n",
       "[60,79]                                                1730   \n",
       "[80;+]                                                 6285   \n",
       "\n",
       "vac_statut  Efficacité du vaccin (%)  Décès au total  Décès évités  \\\n",
       "age                                                                  \n",
       "[0,19]                            66              22             2   \n",
       "[20,39]                           91             163           395   \n",
       "[40,59]                           91            1111          3401   \n",
       "[60,79]                           89            5689         18195   \n",
       "[80;+]                            85            7277         16788   \n",
       "\n",
       "vac_statut  Décès évitables  \n",
       "age                          \n",
       "[0,19]                    9  \n",
       "[20,39]                 111  \n",
       "[40,59]                 699  \n",
       "[60,79]                2951  \n",
       "[80;+]                 3330  "
      ]
     },
     "execution_count": 9,
     "metadata": {},
     "output_type": "execute_result"
    }
   ],
   "source": [
    "# Sum dataframe\n",
    "somme = dc.groupby(level=0).sum()\n",
    "somme = somme[[\"non_vax\", \"vax\", \"dc_0\", \"dc_100\", \"dc_vax_1m\", \"dc_non_vax_1m\"]]\n",
    "\n",
    "# Efficacite vaccinale\n",
    "somme[\"eff_vax\"] = 100 - 100 * somme[\"dc_vax_1m\"] / (somme[\"dc_non_vax_1m\"] + somme[\"dc_vax_1m\"])\n",
    "somme[\"dc_all\"] = (somme.vax+somme.non_vax)\n",
    "somme[\"saved\"] = somme.dc_0 - somme.dc_all\n",
    "somme[\"to_save\"] = somme.dc_all - somme.dc_100\n",
    "\n",
    "somme = somme.astype(int)\n",
    "\n",
    "somme2 = somme.rename(columns={\n",
    "    \"non_vax\" : \"Décès chez les non-vaccinés\", \n",
    "    \"vax\" : \"Décès chez les vaccinés\",\n",
    "    \"dc_0\" : \"Décès si 0% de la population est vaccinée\", \n",
    "    \"dc_100\" : \"Décès si 100% de la population est vaccinée\",\n",
    "    \"dc_vax_1m\": \"Décès chez les vaccinés pour 1M d'individus\",\n",
    "    \"dc_non_vax_1m\": \"Décès chez les non vaccinés pour 1M d'individus\",\n",
    "    \"eff_vax\": \"Efficacité du vaccin (%)\",\n",
    "    \"dc_all\": \"Décès au total\",\n",
    "    \"saved\": \"Décès évités\",\n",
    "    \"to_save\": \"Décès évitables\"\n",
    "})\n",
    "\n",
    "somme2"
   ]
  },
  {
   "cell_type": "markdown",
   "id": "fd39a814",
   "metadata": {},
   "source": [
    "# Graphes\n",
    "\n",
    "## Décès par tranche d'âge et statut vaccinal"
   ]
  },
  {
   "cell_type": "code",
   "execution_count": 10,
   "id": "2ad7c66f",
   "metadata": {
    "ExecuteTime": {
     "end_time": "2022-01-26T09:54:06.590697Z",
     "start_time": "2022-01-26T09:54:06.421329Z"
    },
    "jupyter": {
     "source_hidden": true
    },
    "tags": []
   },
   "outputs": [
    {
     "data": {
      "text/plain": [
       "<matplotlib.legend.Legend at 0x131595b80>"
      ]
     },
     "execution_count": 10,
     "metadata": {},
     "output_type": "execute_result"
    },
    {
     "data": {
      "image/png": "[encoded data removed]",
      "text/plain": [
       "<Figure size 936x720 with 1 Axes>"
      ]
     },
     "metadata": {
      "needs_background": "light"
     },
     "output_type": "display_data"
    }
   ],
   "source": [
    "somme[[\"vax\", \"non_vax\"]].plot.bar(\n",
    "    title=\"Décès par tranche d'âge et par statut vaccinal\",\n",
    "    ylabel=\"Décès depuis juin 2021 [DRESS]\",\n",
    "    xlabel=\"Tranche d'âge\")\n",
    "plt.legend([\"Vaccinés\", \"Non vaccinés\"])"
   ]
  },
  {
   "cell_type": "markdown",
   "id": "c00c60a9",
   "metadata": {
    "ExecuteTime": {
     "end_time": "2021-12-22T16:52:48.257136Z",
     "start_time": "2021-12-22T16:52:48.255000Z"
    }
   },
   "source": [
    "## Décès par tranche d'âge et statut vaccinal, normés pour 1 million d'individus"
   ]
  },
  {
   "cell_type": "code",
   "execution_count": 11,
   "id": "608ae028",
   "metadata": {
    "ExecuteTime": {
     "end_time": "2022-01-26T09:54:11.693017Z",
     "start_time": "2022-01-26T09:54:11.522425Z"
    },
    "jupyter": {
     "source_hidden": true
    },
    "tags": []
   },
   "outputs": [
    {
     "data": {
      "text/plain": [
       "<matplotlib.legend.Legend at 0x13202b640>"
      ]
     },
     "execution_count": 11,
     "metadata": {},
     "output_type": "execute_result"
    },
    {
     "data": {
      "image/png": "[encoded data removed]",
      "text/plain": [
       "<Figure size 936x720 with 1 Axes>"
      ]
     },
     "metadata": {
      "needs_background": "light"
     },
     "output_type": "display_data"
    }
   ],
   "source": [
    "somme[[\"dc_vax_1m\", \"dc_non_vax_1m\"]].plot.bar(\n",
    "    title=\"Décès pour 1M d'individus, par statut vaccinal et tranche d'âge\",\n",
    "    ylabel=\"Décès depuis juin 2021 [DRESS]\",\n",
    "    xlabel=\"Tranche d'âge\")\n",
    "plt.legend([\"Vaccinés\", \"Non vaccinés\"])"
   ]
  },
  {
   "cell_type": "markdown",
   "id": "1511738d",
   "metadata": {
    "ExecuteTime": {
     "end_time": "2022-01-26T09:23:58.042736Z",
     "start_time": "2022-01-26T09:23:58.035871Z"
    }
   },
   "source": [
    "## Comparaison des scenarios 0% et 100% vaccinés\n",
    "\n",
    "### Série temporelle"
   ]
  },
  {
   "cell_type": "code",
   "execution_count": 12,
   "id": "7b4f5540",
   "metadata": {
    "ExecuteTime": {
     "end_time": "2022-01-26T09:54:19.643798Z",
     "start_time": "2022-01-26T09:54:19.609838Z"
    },
    "jupyter": {
     "source_hidden": true
    },
    "tags": []
   },
   "outputs": [
    {
     "data": {
      "text/html": [
       "<div>\n",
       "<style scoped>\n",
       "    .dataframe tbody tr th:only-of-type {\n",
       "        vertical-align: middle;\n",
       "    }\n",
       "\n",
       "    .dataframe tbody tr th {\n",
       "        vertical-align: top;\n",
       "    }\n",
       "\n",
       "    .dataframe thead th {\n",
       "        text-align: right;\n",
       "    }\n",
       "</style>\n",
       "<table border=\"1\" class=\"dataframe\">\n",
       "  <thead>\n",
       "    <tr style=\"text-align: right;\">\n",
       "      <th>vac_statut</th>\n",
       "      <th>Décès chez les non-vaccinés</th>\n",
       "      <th>Décès chez les vaccinés</th>\n",
       "      <th>Nombre de vaccinés</th>\n",
       "      <th>Nombre de non vaccinés</th>\n",
       "      <th>Ratio nombre de décès / total chez les vaccinés</th>\n",
       "      <th>Ratio nombre de décès / total chez les non vaccinés</th>\n",
       "      <th>Décès chez les vaccinés pour 1M d'individus</th>\n",
       "      <th>Décès chez les non vaccinés pour 1M d'individus</th>\n",
       "      <th>Décès si 0% de la population est vaccinée</th>\n",
       "      <th>Décès si 100% de la population est vaccinée</th>\n",
       "      <th>Décès au total</th>\n",
       "    </tr>\n",
       "    <tr>\n",
       "      <th>date</th>\n",
       "      <th></th>\n",
       "      <th></th>\n",
       "      <th></th>\n",
       "      <th></th>\n",
       "      <th></th>\n",
       "      <th></th>\n",
       "      <th></th>\n",
       "      <th></th>\n",
       "      <th></th>\n",
       "      <th></th>\n",
       "      <th></th>\n",
       "    </tr>\n",
       "  </thead>\n",
       "  <tbody>\n",
       "    <tr>\n",
       "      <th>2022-01-05</th>\n",
       "      <td>101.491429</td>\n",
       "      <td>90.415714</td>\n",
       "      <td>5.103959e+07</td>\n",
       "      <td>1.575657e+07</td>\n",
       "      <td>0.000018</td>\n",
       "      <td>0.000149</td>\n",
       "      <td>18.217346</td>\n",
       "      <td>148.616096</td>\n",
       "      <td>908.737415</td>\n",
       "      <td>102.362135</td>\n",
       "      <td>191.907143</td>\n",
       "    </tr>\n",
       "    <tr>\n",
       "      <th>2022-01-06</th>\n",
       "      <td>102.838571</td>\n",
       "      <td>89.637143</td>\n",
       "      <td>5.106191e+07</td>\n",
       "      <td>1.573265e+07</td>\n",
       "      <td>0.000018</td>\n",
       "      <td>0.000152</td>\n",
       "      <td>18.336902</td>\n",
       "      <td>151.546784</td>\n",
       "      <td>919.836523</td>\n",
       "      <td>101.521159</td>\n",
       "      <td>192.475714</td>\n",
       "    </tr>\n",
       "    <tr>\n",
       "      <th>2022-01-07</th>\n",
       "      <td>103.131429</td>\n",
       "      <td>90.620000</td>\n",
       "      <td>5.108377e+07</td>\n",
       "      <td>1.570919e+07</td>\n",
       "      <td>0.000019</td>\n",
       "      <td>0.000150</td>\n",
       "      <td>18.586360</td>\n",
       "      <td>150.237920</td>\n",
       "      <td>927.602797</td>\n",
       "      <td>102.615330</td>\n",
       "      <td>193.751429</td>\n",
       "    </tr>\n",
       "    <tr>\n",
       "      <th>2022-01-08</th>\n",
       "      <td>99.942857</td>\n",
       "      <td>91.308571</td>\n",
       "      <td>5.110531e+07</td>\n",
       "      <td>1.568606e+07</td>\n",
       "      <td>0.000018</td>\n",
       "      <td>0.000143</td>\n",
       "      <td>18.382223</td>\n",
       "      <td>143.260916</td>\n",
       "      <td>903.243932</td>\n",
       "      <td>103.470775</td>\n",
       "      <td>191.251429</td>\n",
       "    </tr>\n",
       "    <tr>\n",
       "      <th>2022-01-09</th>\n",
       "      <td>102.712857</td>\n",
       "      <td>91.560000</td>\n",
       "      <td>5.112679e+07</td>\n",
       "      <td>1.566298e+07</td>\n",
       "      <td>0.000018</td>\n",
       "      <td>0.000149</td>\n",
       "      <td>18.255946</td>\n",
       "      <td>148.713944</td>\n",
       "      <td>921.888421</td>\n",
       "      <td>103.487249</td>\n",
       "      <td>194.272857</td>\n",
       "    </tr>\n",
       "  </tbody>\n",
       "</table>\n",
       "</div>"
      ],
      "text/plain": [
       "vac_statut  Décès chez les non-vaccinés  Décès chez les vaccinés  \\\n",
       "date                                                               \n",
       "2022-01-05                   101.491429                90.415714   \n",
       "2022-01-06                   102.838571                89.637143   \n",
       "2022-01-07                   103.131429                90.620000   \n",
       "2022-01-08                    99.942857                91.308571   \n",
       "2022-01-09                   102.712857                91.560000   \n",
       "\n",
       "vac_statut  Nombre de vaccinés  Nombre de non vaccinés  \\\n",
       "date                                                     \n",
       "2022-01-05        5.103959e+07            1.575657e+07   \n",
       "2022-01-06        5.106191e+07            1.573265e+07   \n",
       "2022-01-07        5.108377e+07            1.570919e+07   \n",
       "2022-01-08        5.110531e+07            1.568606e+07   \n",
       "2022-01-09        5.112679e+07            1.566298e+07   \n",
       "\n",
       "vac_statut  Ratio nombre de décès / total chez les vaccinés  \\\n",
       "date                                                          \n",
       "2022-01-05                                         0.000018   \n",
       "2022-01-06                                         0.000018   \n",
       "2022-01-07                                         0.000019   \n",
       "2022-01-08                                         0.000018   \n",
       "2022-01-09                                         0.000018   \n",
       "\n",
       "vac_statut  Ratio nombre de décès / total chez les non vaccinés  \\\n",
       "date                                                              \n",
       "2022-01-05                                           0.000149     \n",
       "2022-01-06                                           0.000152     \n",
       "2022-01-07                                           0.000150     \n",
       "2022-01-08                                           0.000143     \n",
       "2022-01-09                                           0.000149     \n",
       "\n",
       "vac_statut  Décès chez les vaccinés pour 1M d'individus  \\\n",
       "date                                                      \n",
       "2022-01-05                                    18.217346   \n",
       "2022-01-06                                    18.336902   \n",
       "2022-01-07                                    18.586360   \n",
       "2022-01-08                                    18.382223   \n",
       "2022-01-09                                    18.255946   \n",
       "\n",
       "vac_statut  Décès chez les non vaccinés pour 1M d'individus  \\\n",
       "date                                                          \n",
       "2022-01-05                                       148.616096   \n",
       "2022-01-06                                       151.546784   \n",
       "2022-01-07                                       150.237920   \n",
       "2022-01-08                                       143.260916   \n",
       "2022-01-09                                       148.713944   \n",
       "\n",
       "vac_statut  Décès si 0% de la population est vaccinée  \\\n",
       "date                                                    \n",
       "2022-01-05                                 908.737415   \n",
       "2022-01-06                                 919.836523   \n",
       "2022-01-07                                 927.602797   \n",
       "2022-01-08                                 903.243932   \n",
       "2022-01-09                                 921.888421   \n",
       "\n",
       "vac_statut  Décès si 100% de la population est vaccinée  Décès au total  \n",
       "date                                                                     \n",
       "2022-01-05                                   102.362135      191.907143  \n",
       "2022-01-06                                   101.521159      192.475714  \n",
       "2022-01-07                                   102.615330      193.751429  \n",
       "2022-01-08                                   103.470775      191.251429  \n",
       "2022-01-09                                   103.487249      194.272857  "
      ]
     },
     "execution_count": 12,
     "metadata": {},
     "output_type": "execute_result"
    }
   ],
   "source": [
    "# Somme des tranches d'age\n",
    "serie = dc.groupby(level=1).sum().rolling(\"7D\").mean()\n",
    "serie[\"dc_tot\"] = serie.vax + serie.non_vax\n",
    "serie2 = serie.rename(columns={\n",
    "    \"non_vax\" : \"Décès chez les non-vaccinés\", \n",
    "    \"vax\" : \"Décès chez les vaccinés\",\n",
    "    \"eff_vax\": \"Nombre de vaccinés\",\n",
    "    \"eff_non_vax\": \"Nombre de non vaccinés\",\n",
    "    \"ratio_vax\": \"Ratio nombre de décès / total chez les vaccinés\",\n",
    "    \"ratio_non_vax\": \"Ratio nombre de décès / total chez les non vaccinés\",\n",
    "    \"dc_0\" : \"Décès si 0% de la population est vaccinée\", \n",
    "    \"dc_100\" : \"Décès si 100% de la population est vaccinée\",\n",
    "    \"dc_vax_1m\": \"Décès chez les vaccinés pour 1M d'individus\",\n",
    "    \"dc_non_vax_1m\": \"Décès chez les non vaccinés pour 1M d'individus\",\n",
    "    \"dc_tot\": \"Décès au total\"\n",
    "})\n",
    "serie2.tail()"
   ]
  },
  {
   "cell_type": "code",
   "execution_count": 13,
   "id": "b12db49d",
   "metadata": {
    "ExecuteTime": {
     "end_time": "2022-01-26T10:09:13.465722Z",
     "start_time": "2022-01-26T10:09:13.264678Z"
    },
    "jupyter": {
     "source_hidden": true
    },
    "tags": []
   },
   "outputs": [
    {
     "data": {
      "text/plain": [
       "Text(0.5, 1.0, 'Comparaison des scénarios : réel (bleu) / sans vaccin (jaune) / 100% vaccin (vert)')"
      ]
     },
     "execution_count": 13,
     "metadata": {},
     "output_type": "execute_result"
    },
    {
     "data": {
      "image/png": "[encoded data removed]",
      "text/plain": [
       "<Figure size 936x720 with 1 Axes>"
      ]
     },
     "metadata": {
      "needs_background": "light"
     },
     "output_type": "display_data"
    }
   ],
   "source": [
    "plt.ylabel(\"Décès quotidiens, moyenne glissante 7J\")\n",
    "\n",
    "plt.plot(serie.index, serie.dc_tot, label=\"Décès réels\", color=\"blue\")\n",
    "\n",
    "plt.plot(serie.index, serie.dc_0, label=\"Décès si 0% vaccinés\", color=\"orange\")\n",
    "plt.fill_between(\n",
    "    serie.index, \n",
    "    serie.dc_tot, \n",
    "    serie.dc_0, \n",
    "    hatch=\"//\", color=\"white\",edgecolor=\"orange\",\n",
    "    label=\"Décès évités : \" + str(somme.sum()[\"saved\"]))\n",
    "\n",
    "plt.plot(serie.index, serie.dc_100, label=\"Décès si 100% vaccinés\", color=\"green\")\n",
    "plt.fill_between(\n",
    "    serie.index, \n",
    "    serie.dc_tot, \n",
    "    serie.dc_100, \n",
    "    hatch='\\\\\\\\', color=\"white\", edgecolor=\"blue\",\n",
    "    label=\"Décès évitables : \" + str(somme.sum()[\"to_save\"]))\n",
    "\n",
    "plt.legend()\n",
    "plt.title(\"Comparaison des scénarios : réel (bleu) / sans vaccin (jaune) / 100% vaccin (vert)\")"
   ]
  },
  {
   "cell_type": "markdown",
   "id": "e2eaac9a",
   "metadata": {
    "ExecuteTime": {
     "end_time": "2022-01-26T09:57:38.306523Z",
     "start_time": "2022-01-26T09:57:38.298871Z"
    }
   },
   "source": [
    "### Bilan par tranche d'âge"
   ]
  },
  {
   "cell_type": "code",
   "execution_count": 14,
   "id": "56489804",
   "metadata": {
    "ExecuteTime": {
     "end_time": "2022-01-26T09:57:44.666287Z",
     "start_time": "2022-01-26T09:57:44.474872Z"
    },
    "jupyter": {
     "source_hidden": true
    },
    "tags": []
   },
   "outputs": [
    {
     "data": {
      "text/plain": [
       "<matplotlib.legend.Legend at 0x1320e7490>"
      ]
     },
     "execution_count": 14,
     "metadata": {},
     "output_type": "execute_result"
    },
    {
     "data": {
      "image/png": "[encoded data removed]",
      "text/plain": [
       "<Figure size 936x720 with 1 Axes>"
      ]
     },
     "metadata": {
      "needs_background": "light"
     },
     "output_type": "display_data"
    }
   ],
   "source": [
    "somme[[\"dc_100\", \"dc_all\", \"dc_0\"]].plot.bar(\n",
    "    title=\"Comparaison des scénarios : 100% vaccin / réel / sans vaccin\",\n",
    "    ylabel=\"Décès depuis juin 2021 [DRESS]\",\n",
    "    xlabel=\"Tranche d'âge\",\n",
    "    color=[\"green\", \"blue\", \"orange\"])\n",
    "plt.legend([\"Décès si 100% vaccinés\", \"Décès réels\" , \"Décès si 0% vaccinés\"])"
   ]
  },
  {
   "cell_type": "markdown",
   "id": "772b530b",
   "metadata": {
    "ExecuteTime": {
     "end_time": "2021-12-22T16:57:59.854153Z",
     "start_time": "2021-12-22T16:57:59.851179Z"
    }
   },
   "source": [
    "# Tableau récapitulatif"
   ]
  },
  {
   "cell_type": "code",
   "execution_count": 15,
   "id": "d7757644",
   "metadata": {
    "ExecuteTime": {
     "end_time": "2022-01-26T10:16:43.057671Z",
     "start_time": "2022-01-26T10:16:43.039377Z"
    },
    "tags": []
   },
   "outputs": [
    {
     "data": {
      "text/html": [
       "<div>\n",
       "<style scoped>\n",
       "    .dataframe tbody tr th:only-of-type {\n",
       "        vertical-align: middle;\n",
       "    }\n",
       "\n",
       "    .dataframe tbody tr th {\n",
       "        vertical-align: top;\n",
       "    }\n",
       "\n",
       "    .dataframe thead th {\n",
       "        text-align: right;\n",
       "    }\n",
       "</style>\n",
       "<table border=\"1\" class=\"dataframe\">\n",
       "  <thead>\n",
       "    <tr style=\"text-align: right;\">\n",
       "      <th>vac_statut</th>\n",
       "      <th>Décès chez les non-vaccinés pour 1M d'individus</th>\n",
       "      <th>Décès chez les vaccinés pour 1M d'individus</th>\n",
       "      <th>Décès si 0% de la population est vaccinée</th>\n",
       "      <th>Décès si 100% de la population est vaccinée</th>\n",
       "      <th>Décès évités</th>\n",
       "      <th>Décès évitables</th>\n",
       "      <th>Efficacité du vaccin (%)</th>\n",
       "    </tr>\n",
       "    <tr>\n",
       "      <th>age</th>\n",
       "      <th></th>\n",
       "      <th></th>\n",
       "      <th></th>\n",
       "      <th></th>\n",
       "      <th></th>\n",
       "      <th></th>\n",
       "      <th></th>\n",
       "    </tr>\n",
       "  </thead>\n",
       "  <tbody>\n",
       "    <tr>\n",
       "      <th>[0,19]</th>\n",
       "      <td>1</td>\n",
       "      <td>0</td>\n",
       "      <td>24</td>\n",
       "      <td>12</td>\n",
       "      <td>2</td>\n",
       "      <td>9</td>\n",
       "      <td>66</td>\n",
       "    </tr>\n",
       "    <tr>\n",
       "      <th>[20,39]</th>\n",
       "      <td>35</td>\n",
       "      <td>3</td>\n",
       "      <td>559</td>\n",
       "      <td>52</td>\n",
       "      <td>395</td>\n",
       "      <td>111</td>\n",
       "      <td>91</td>\n",
       "    </tr>\n",
       "    <tr>\n",
       "      <th>[40,59]</th>\n",
       "      <td>260</td>\n",
       "      <td>23</td>\n",
       "      <td>4513</td>\n",
       "      <td>411</td>\n",
       "      <td>3401</td>\n",
       "      <td>699</td>\n",
       "      <td>91</td>\n",
       "    </tr>\n",
       "    <tr>\n",
       "      <th>[60,79]</th>\n",
       "      <td>1730</td>\n",
       "      <td>198</td>\n",
       "      <td>23884</td>\n",
       "      <td>2737</td>\n",
       "      <td>18195</td>\n",
       "      <td>2951</td>\n",
       "      <td>89</td>\n",
       "    </tr>\n",
       "    <tr>\n",
       "      <th>[80;+]</th>\n",
       "      <td>6285</td>\n",
       "      <td>1031</td>\n",
       "      <td>24066</td>\n",
       "      <td>3947</td>\n",
       "      <td>16788</td>\n",
       "      <td>3330</td>\n",
       "      <td>85</td>\n",
       "    </tr>\n",
       "    <tr>\n",
       "      <th>Total</th>\n",
       "      <td>8311</td>\n",
       "      <td>1255</td>\n",
       "      <td>53046</td>\n",
       "      <td>7159</td>\n",
       "      <td>38781</td>\n",
       "      <td>7100</td>\n",
       "      <td>0</td>\n",
       "    </tr>\n",
       "  </tbody>\n",
       "</table>\n",
       "</div>"
      ],
      "text/plain": [
       "vac_statut  Décès chez les non-vaccinés pour 1M d'individus  \\\n",
       "age                                                           \n",
       "[0,19]                                                    1   \n",
       "[20,39]                                                  35   \n",
       "[40,59]                                                 260   \n",
       "[60,79]                                                1730   \n",
       "[80;+]                                                 6285   \n",
       "Total                                                  8311   \n",
       "\n",
       "vac_statut  Décès chez les vaccinés pour 1M d'individus  \\\n",
       "age                                                       \n",
       "[0,19]                                                0   \n",
       "[20,39]                                               3   \n",
       "[40,59]                                              23   \n",
       "[60,79]                                             198   \n",
       "[80;+]                                             1031   \n",
       "Total                                              1255   \n",
       "\n",
       "vac_statut  Décès si 0% de la population est vaccinée  \\\n",
       "age                                                     \n",
       "[0,19]                                             24   \n",
       "[20,39]                                           559   \n",
       "[40,59]                                          4513   \n",
       "[60,79]                                         23884   \n",
       "[80;+]                                          24066   \n",
       "Total                                           53046   \n",
       "\n",
       "vac_statut  Décès si 100% de la population est vaccinée  Décès évités  \\\n",
       "age                                                                     \n",
       "[0,19]                                               12             2   \n",
       "[20,39]                                              52           395   \n",
       "[40,59]                                             411          3401   \n",
       "[60,79]                                            2737         18195   \n",
       "[80;+]                                             3947         16788   \n",
       "Total                                              7159         38781   \n",
       "\n",
       "vac_statut  Décès évitables  Efficacité du vaccin (%)  \n",
       "age                                                    \n",
       "[0,19]                    9                        66  \n",
       "[20,39]                 111                        91  \n",
       "[40,59]                 699                        91  \n",
       "[60,79]                2951                        89  \n",
       "[80;+]                 3330                        85  \n",
       "Total                  7100                         0  "
      ]
     },
     "execution_count": 15,
     "metadata": {},
     "output_type": "execute_result"
    }
   ],
   "source": [
    "summary = somme.append(somme.sum().rename('Total'))\n",
    "summary.at[\"Total\", \"eff_vax\"] = 0\n",
    "summary[[\"dc_non_vax_1m\", \"dc_vax_1m\", \"dc_0\", \"dc_100\", \"saved\", \"to_save\", \"eff_vax\"]].rename(columns={\n",
    "    \"dc_non_vax_1m\" : \"Décès chez les non-vaccinés pour 1M d'individus\", \n",
    "    \"dc_vax_1m\" : \"Décès chez les vaccinés pour 1M d'individus\",\n",
    "    \"eff_vax\": \"Efficacité du vaccin (%)\",\n",
    "    \"dc_0\" : \"Décès si 0% de la population est vaccinée\", \n",
    "    \"dc_100\" : \"Décès si 100% de la population est vaccinée\",\n",
    "    \"saved\" : \"Décès évités\", \n",
    "    \"to_save\" : \"Décès évitables\", \n",
    "})"
   ]
  },
  {
   "cell_type": "code",
   "execution_count": null,
   "id": "50e4451b-a763-41a0-8fc1-d64b065d864a",
   "metadata": {
    "jupyter": {
     "source_hidden": true
    },
    "tags": []
   },
   "outputs": [],
   "source": []
  },
  {
   "cell_type": "code",
   "execution_count": null,
   "id": "11110612-dd94-4c1a-8c1b-db828f954dbd",
   "metadata": {},
   "outputs": [],
   "source": []
  },
  {
   "cell_type": "code",
   "execution_count": null,
   "id": "dc273b6f-c6cd-43fa-8046-6d8ab4ac0ffb",
   "metadata": {},
   "outputs": [],
   "source": []
  },
  {
   "cell_type": "code",
   "execution_count": null,
   "id": "4c6e1764-e72e-4b47-80e4-ae1685f11295",
   "metadata": {},
   "outputs": [],
   "source": []
  },
  {
   "cell_type": "code",
   "execution_count": null,
   "id": "c6fd3625-12df-4f89-b7bb-9e4674a0c38f",
   "metadata": {},
   "outputs": [],
   "source": []
  }
 ],
 "metadata": {
  "kernelspec": {
   "display_name": "Python 3 (ipykernel)",
   "language": "python",
   "name": "python3"
  },
  "language_info": {
   "codemirror_mode": {
    "name": "ipython",
    "version": 3
   },
   "file_extension": ".py",
   "mimetype": "text/x-python",
   "name": "python",
   "nbconvert_exporter": "python",
   "pygments_lexer": "ipython3",
   "version": "3.9.7"
  },
  "toc": {
   "base_numbering": 1,
   "nav_menu": {},
   "number_sections": true,
   "sideBar": true,
   "skip_h1_title": false,
   "title_cell": "Table of Contents",
   "title_sidebar": "Contents",
   "toc_cell": false,
   "toc_position": {},
   "toc_section_display": true,
   "toc_window_display": false
  },
  "varInspector": {
   "cols": {
    "lenName": 16,
    "lenType": 16,
    "lenVar": 40
   },
   "kernels_config": {
    "python": {
     "delete_cmd_postfix": "",
     "delete_cmd_prefix": "del ",
     "library": "var_list.py",
     "varRefreshCmd": "print(var_dic_list())"
    },
    "r": {
     "delete_cmd_postfix": ") ",
     "delete_cmd_prefix": "rm(",
     "library": "var_list.r",
     "varRefreshCmd": "cat(var_dic_list()) "
    }
   },
   "types_to_exclude": [
    "module",
    "function",
    "builtin_function_or_method",
    "instance",
    "_Feature"
   ],
   "window_display": false
  }
 },
 "nbformat": 4,
 "nbformat_minor": 5
}
